{
 "cells": [
  {
   "cell_type": "markdown",
   "metadata": {},
   "source": [
    "# 04. Creación de grafo de las estaciones del sistema metro de CDMX"
   ]
  },
  {
   "cell_type": "markdown",
   "metadata": {},
   "source": [
    "Carga de librerías"
   ]
  },
  {
   "cell_type": "code",
   "execution_count": 31,
   "metadata": {},
   "outputs": [],
   "source": [
    "import json\n",
    "from datetime import datetime, timedelta\n",
    "import networkx as nx\n",
    "import plotly.graph_objects as go"
   ]
  },
  {
   "cell_type": "markdown",
   "metadata": {},
   "source": [
    "Lectura de archivo json con los tiempos de traslado entre estaciones consecutivas"
   ]
  },
  {
   "cell_type": "code",
   "execution_count": 32,
   "metadata": {},
   "outputs": [],
   "source": [
    "json_file = \"../output_metro/travel_times_metro.json\"\n",
    "with open(json_file) as input_json:\n",
    "    dict_times_metro = json.load(input_json)"
   ]
  },
  {
   "cell_type": "markdown",
   "metadata": {},
   "source": [
    "Convertimos los datos de cada estacion a ```timedelta```"
   ]
  },
  {
   "cell_type": "code",
   "execution_count": 33,
   "metadata": {},
   "outputs": [],
   "source": [
    "travel_times_metro = dict()\n",
    "location_stations = dict()\n",
    "\n",
    "for route_id in dict_times_metro.keys():\n",
    "    stations_data = dict_times_metro[route_id]\n",
    "    converted_route_times = list(map(lambda x: timedelta(hours=x.hour, minutes=x.minute, seconds=x.second), [datetime.strptime(stat_time[1][4:], \"%HH%MM%SS\") for stat_time in stations_data]))\n",
    "    \n",
    "    travel_times_metro[route_id] = [(stations_data[n][0], converted_diff_time) for n, converted_diff_time in enumerate(converted_route_times)]\n",
    "\n",
    "    for station_data in stations_data:\n",
    "        location_stations[station_data[0]] = tuple(station_data[2:])"
   ]
  },
  {
   "cell_type": "markdown",
   "metadata": {},
   "source": []
  },
  {
   "cell_type": "code",
   "execution_count": 34,
   "metadata": {},
   "outputs": [
    {
     "data": {
      "text/plain": [
       "[('VIADUCTO', datetime.timedelta(seconds=103)),\n",
       " ('LAVIGA', datetime.timedelta(seconds=101)),\n",
       " ('LAZAROCAR', datetime.timedelta(seconds=123)),\n",
       " ('SANANTONIO', datetime.timedelta(seconds=85)),\n",
       " ('JAMAICA', datetime.timedelta(seconds=132)),\n",
       " ('OBRERA', datetime.timedelta(seconds=136))]"
      ]
     },
     "execution_count": 34,
     "metadata": {},
     "output_type": "execute_result"
    }
   ],
   "source": [
    "metro_network = dict()\n",
    "\n",
    "route_ids = travel_times_metro.keys()\n",
    "\n",
    "for route_id in route_ids:\n",
    "    stations, travel_times = zip(*travel_times_metro[route_id])\n",
    "    NumStations = len(stations)\n",
    "    for i in range(NumStations):\n",
    "        if stations[i] not in metro_network.keys():\n",
    "            if i != NumStations - 1:\n",
    "                metro_network[stations[i]] = [(stations[i+1], travel_times[i+1])]\n",
    "            else:\n",
    "                metro_network[stations[i]] = [(stations[i-1], travel_times[i-1])]\n",
    "        else:\n",
    "            if i != NumStations - 1:\n",
    "                metro_network[stations[i]].append((stations[i+1], travel_times[i+1]))\n",
    "            else:\n",
    "                metro_network[stations[i]].append((stations[i-1], travel_times[i-1]))\n",
    "\n",
    "for node, connections in list(metro_network.items()):\n",
    "    for target, time in connections:\n",
    "        if target not in metro_network:\n",
    "            metro_network[target] = []\n",
    "        nodes_list, _ = zip(*metro_network[target])\n",
    "        if node not in nodes_list:\n",
    "            metro_network[target].append((node, time))\n",
    "\n",
    "metro_network[\"CHABACANO\"]"
   ]
  },
  {
   "cell_type": "code",
   "execution_count": 37,
   "metadata": {},
   "outputs": [
    {
     "data": {
      "application/vnd.plotly.v1+json": {
       "config": {
        "plotlyServerURL": "https://plot.ly"
       },
       "data": [
        {
         "hoverinfo": "none",
         "line": {
          "color": "gray",
          "width": 2
         },
         "mode": "lines",
         "type": "scatter",
         "x": [
          -99.2004,
          -99.18776,
          null,
          -99.18776,
          -99.18198,
          null,
          -99.18776,
          -99.18581,
          null,
          -99.18776,
          -99.17892,
          null,
          -99.18776,
          -99.19135,
          null,
          -99.18198,
          -99.17642,
          null,
          -99.18581,
          -99.18661,
          null,
          -99.17892,
          -99.16852,
          null,
          -99.19135,
          -99.19203,
          null,
          -99.17642,
          -99.17112,
          null,
          -99.17112,
          -99.16329,
          null,
          -99.16329,
          -99.1546,
          null,
          -99.1546,
          -99.14906,
          null,
          -99.14906,
          -99.14341,
          null,
          -99.14906,
          -99.15036,
          null,
          -99.14906,
          -99.14768,
          null,
          -99.14341,
          -99.13783,
          null,
          -99.15036,
          -99.15325,
          null,
          -99.14768,
          -99.14678,
          null,
          -99.13783,
          -99.13294,
          null,
          -99.13294,
          -99.12503,
          null,
          -99.13294,
          -99.18661,
          null,
          -99.13294,
          -99.13225,
          null,
          -99.12503,
          -99.11943,
          null,
          -99.18661,
          -99.13397,
          null,
          -99.18661,
          -99.18673,
          null,
          -99.13225,
          -99.13687,
          null,
          -99.11943,
          -99.11296,
          null,
          -99.11943,
          -99.11957,
          null,
          -99.11943,
          -99.12053,
          null,
          -99.11296,
          -99.1098,
          null,
          -99.11296,
          -99.10371,
          null,
          -99.11296,
          -99.11957,
          null,
          -99.11957,
          -99.11613,
          null,
          -99.11957,
          -99.12407,
          null,
          -99.12053,
          -99.12235,
          null,
          -99.1098,
          -99.10277,
          null,
          -99.10371,
          -99.0942,
          null,
          -99.10277,
          -99.09626,
          null,
          -99.09626,
          -99.09021,
          null,
          -99.09021,
          -99.08229,
          null,
          -99.08229,
          -99.07192,
          null,
          -99.07192,
          -99.08813,
          null,
          -99.07192,
          -99.08239,
          null,
          -99.07192,
          -99.06957,
          null,
          -99.08813,
          -99.08808,
          null,
          -99.08239,
          -99.09125,
          null,
          -99.06957,
          -99.05942,
          null,
          -99.21584,
          -99.20295,
          null,
          -99.20295,
          -99.18717,
          null,
          -99.18717,
          -99.1815,
          null,
          -99.18717,
          -99.19177,
          null,
          -99.18717,
          -99.19051,
          null,
          -99.1815,
          -99.17549,
          null,
          -99.19177,
          -99.19093,
          null,
          -99.19051,
          -99.19004,
          null,
          -99.17549,
          -99.17178,
          null,
          -99.17178,
          -99.16727,
          null,
          -99.16727,
          -99.16066,
          null,
          -99.16066,
          -99.15423,
          null,
          -99.15423,
          -99.14678,
          null,
          -99.14678,
          -99.14042,
          null,
          -99.14678,
          -99.14614,
          null,
          -99.14042,
          -99.13687,
          null,
          -99.14042,
          -99.14125,
          null,
          -99.14042,
          -99.13787,
          null,
          -99.14614,
          -99.14313,
          null,
          -99.14614,
          -99.13787,
          null,
          -99.14614,
          -99.15235,
          null,
          -99.14125,
          -99.14185,
          null,
          -99.13787,
          -99.13023,
          null,
          -99.13397,
          -99.1369,
          null,
          -99.13397,
          -99.12627,
          null,
          -99.13397,
          -99.14463,
          null,
          -99.13397,
          -99.12235,
          null,
          -99.13397,
          -99.14404,
          null,
          -99.18673,
          -99.18926,
          null,
          -99.18673,
          -99.17825,
          null,
          -99.1369,
          -99.13781,
          null,
          -99.12627,
          -99.12066,
          null,
          -99.14463,
          -99.15603,
          null,
          -99.12235,
          -99.1217,
          null,
          -99.12235,
          -99.11297,
          null,
          -99.14404,
          -99.14319,
          null,
          -99.13781,
          -99.13896,
          null,
          -99.13896,
          -99.14002,
          null,
          -99.14002,
          -99.14157,
          null,
          -99.14157,
          -99.14163,
          null,
          -99.14163,
          -99.14501,
          null,
          -99.14163,
          -99.12314,
          null,
          -99.14163,
          -99.15142,
          null,
          -99.14501,
          -99.13953,
          null,
          -99.12314,
          -99.10624,
          null,
          -99.15142,
          -99.15872,
          null,
          -99.11951,
          -99.1253,
          null,
          -99.1253,
          -99.13201,
          null,
          -99.1253,
          -99.11837,
          null,
          -99.1253,
          -99.13507,
          null,
          -99.13201,
          -99.13652,
          null,
          -99.11837,
          -99.10748,
          null,
          -99.13507,
          -99.14813,
          null,
          -99.13652,
          -99.14313,
          null,
          -99.13652,
          -99.13024,
          null,
          -99.13652,
          -99.14065,
          null,
          -99.13024,
          -99.11949,
          null,
          -99.14065,
          -99.14813,
          null,
          -99.15325,
          -99.15603,
          null,
          -99.15603,
          -99.15603,
          null,
          -99.15603,
          -99.16852,
          null,
          -99.15603,
          -99.1572,
          null,
          -99.1572,
          -99.15948,
          null,
          -99.15948,
          -99.1656,
          null,
          -99.1656,
          -99.17086,
          null,
          -99.1656,
          -99.15872,
          null,
          -99.1656,
          -99.17088,
          null,
          -99.17086,
          -99.176,
          null,
          -99.17088,
          -99.17825,
          null,
          -99.176,
          -99.18076,
          null,
          -99.18076,
          -99.17697,
          null,
          -99.17697,
          -99.17394,
          null,
          -99.11297,
          -99.10316,
          null,
          -99.11613,
          -99.11354,
          null,
          -99.12407,
          -99.13023,
          null,
          -99.11354,
          -99.11198,
          null,
          -99.11354,
          -99.1053,
          null,
          -99.11354,
          -99.11949,
          null,
          -99.11198,
          -99.10801,
          null,
          -99.1053,
          -99.09621,
          null,
          -99.10801,
          -99.10748,
          null,
          -99.14921,
          -99.14813,
          null,
          -99.14813,
          -99.156,
          null,
          -99.156,
          -99.16299,
          null,
          -99.09621,
          -99.08722,
          null,
          -99.08722,
          -99.08808,
          null,
          -99.08722,
          -99.07933,
          null,
          -99.08722,
          -99.0942,
          null,
          -99.07933,
          -99.06929,
          null,
          -99.20012,
          -99.19602,
          null,
          -99.20012,
          -99.19535,
          null,
          -99.19602,
          -99.18627,
          null,
          -99.19535,
          -99.19004,
          null,
          -99.18627,
          -99.17415,
          null,
          -99.17415,
          -99.16299,
          null,
          -99.19093,
          -99.19203,
          null,
          -99.14185,
          -99.14319,
          null,
          -99.12066,
          -99.11348,
          null,
          -99.11348,
          -99.11211,
          null,
          -99.11211,
          -99.10949,
          null,
          -99.10949,
          -99.1077,
          null,
          -99.1077,
          -99.10948,
          null,
          -99.10948,
          -99.10624,
          null,
          -99.10624,
          -99.09345,
          null,
          -99.10624,
          -99.10896,
          null,
          -99.09345,
          -99.08562,
          null,
          -99.10896,
          -99.10452,
          null,
          -99.08562,
          -99.07482,
          null,
          -99.07482,
          -99.0638,
          null,
          -99.09125,
          -99.10316,
          null,
          -99.05942,
          -99.04633,
          null,
          -99.04633,
          -99.03566,
          null,
          -99.03566,
          -99.01705,
          null,
          -99.01705,
          -99.00567,
          null,
          -99.00567,
          -98.99518,
          null,
          -98.99518,
          -98.97687,
          null,
          -98.97687,
          -98.96094,
          null,
          -99.06929,
          -99.06138,
          null,
          -99.06138,
          -99.05461,
          null,
          -99.05461,
          -99.04896,
          null,
          -99.04896,
          -99.04679,
          null,
          -99.04679,
          -99.04207,
          null,
          -99.04207,
          -99.03607,
          null,
          -99.03607,
          -99.03334,
          null,
          -99.03334,
          -99.03018,
          null,
          -99.03018,
          -99.02751,
          null,
          -99.10452,
          -99.09575,
          null,
          -99.09575,
          -99.08587,
          null,
          -99.08587,
          -99.07451,
          null,
          -99.07451,
          -99.06527,
          null,
          -99.06527,
          -99.05951,
          null,
          -99.05951,
          -99.04599,
          null,
          -99.04599,
          -99.03431,
          null,
          -99.03431,
          -99.02403,
          null,
          -99.02403,
          -99.0142,
          null
         ],
         "y": [
          19.39828,
          19.40146,
          null,
          19.40146,
          19.41295,
          null,
          19.40146,
          19.39149,
          null,
          19.40146,
          19.40611,
          null,
          19.40146,
          19.41177,
          null,
          19.41295,
          19.42075,
          null,
          19.39149,
          19.38434,
          null,
          19.40611,
          19.40593,
          null,
          19.41177,
          19.42576,
          null,
          19.42075,
          19.42185,
          null,
          19.42185,
          19.42365,
          null,
          19.42365,
          19.42566,
          null,
          19.42566,
          19.42648,
          null,
          19.42648,
          19.42695,
          null,
          19.42648,
          19.41948,
          null,
          19.42648,
          19.43325,
          null,
          19.42695,
          19.42639,
          null,
          19.41948,
          19.41376,
          null,
          19.43325,
          19.43738,
          null,
          19.42639,
          19.42438,
          null,
          19.42438,
          19.42549,
          null,
          19.42438,
          19.38434,
          null,
          19.42438,
          19.4325,
          null,
          19.42549,
          19.42876,
          null,
          19.38434,
          19.40851,
          null,
          19.38434,
          19.3757,
          null,
          19.4325,
          19.43556,
          null,
          19.42876,
          19.43237,
          null,
          19.42876,
          19.43917,
          null,
          19.42876,
          19.42159,
          null,
          19.43237,
          19.42685,
          null,
          19.43237,
          19.43657,
          null,
          19.43237,
          19.43917,
          null,
          19.43917,
          19.44895,
          null,
          19.43917,
          19.44279,
          null,
          19.42159,
          19.4091,
          null,
          19.42685,
          19.42336,
          null,
          19.43657,
          19.44084,
          null,
          19.42336,
          19.41994,
          null,
          19.41994,
          19.41648,
          null,
          19.41648,
          19.41192,
          null,
          19.41192,
          19.4153,
          null,
          19.4153,
          19.42435,
          null,
          19.4153,
          19.40719,
          null,
          19.4153,
          19.40462,
          null,
          19.42435,
          19.43427,
          null,
          19.40719,
          19.40843,
          null,
          19.40462,
          19.39876,
          null,
          19.45959,
          19.45864,
          null,
          19.45864,
          19.45823,
          null,
          19.45823,
          19.45725,
          null,
          19.45823,
          19.44501,
          null,
          19.45823,
          19.46947,
          null,
          19.45725,
          19.45291,
          null,
          19.44501,
          19.43355,
          null,
          19.46947,
          19.47911,
          null,
          19.45291,
          19.44927,
          null,
          19.44927,
          19.44456,
          null,
          19.44456,
          19.4419,
          null,
          19.4419,
          19.43923,
          null,
          19.43923,
          19.43738,
          null,
          19.43738,
          19.43701,
          null,
          19.43738,
          19.44514,
          null,
          19.43701,
          19.43556,
          null,
          19.43701,
          19.43158,
          null,
          19.43701,
          19.44389,
          null,
          19.44514,
          19.45506,
          null,
          19.44514,
          19.44389,
          null,
          19.44514,
          19.44619,
          null,
          19.43158,
          19.42772,
          null,
          19.44389,
          19.44322,
          null,
          19.40851,
          19.40087,
          null,
          19.40851,
          19.40671,
          null,
          19.40851,
          19.40722,
          null,
          19.40851,
          19.4091,
          null,
          19.40851,
          19.41324,
          null,
          19.3757,
          19.3615,
          null,
          19.3757,
          19.37355,
          null,
          19.40087,
          19.39521,
          null,
          19.40671,
          19.40412,
          null,
          19.40722,
          19.40656,
          null,
          19.4091,
          19.40289,
          null,
          19.4091,
          19.40837,
          null,
          19.41324,
          19.42155,
          null,
          19.39521,
          19.38758,
          null,
          19.38758,
          19.38005,
          null,
          19.38005,
          19.36992,
          null,
          19.36992,
          19.359820000000006,
          null,
          19.359820000000006,
          19.35324,
          null,
          19.359820000000006,
          19.35776,
          null,
          19.359820000000006,
          19.36134,
          null,
          19.35324,
          19.34376,
          null,
          19.35776,
          19.35275,
          null,
          19.36134,
          19.37066,
          null,
          19.49534,
          19.48348,
          null,
          19.48348,
          19.47719,
          null,
          19.48348,
          19.48174,
          null,
          19.48348,
          19.48811,
          null,
          19.47719,
          19.46967,
          null,
          19.48174,
          19.48294,
          null,
          19.48811,
          19.49104,
          null,
          19.46967,
          19.45506,
          null,
          19.46967,
          19.46311,
          null,
          19.46967,
          19.47907,
          null,
          19.46311,
          19.45887,
          null,
          19.47907,
          19.49104,
          null,
          19.41376,
          19.40656,
          null,
          19.40656,
          19.39592,
          null,
          19.40656,
          19.40593,
          null,
          19.39592,
          19.38617,
          null,
          19.38617,
          19.37918,
          null,
          19.37918,
          19.37085,
          null,
          19.37085,
          19.36136,
          null,
          19.37085,
          19.37066,
          null,
          19.37085,
          19.37201,
          null,
          19.36136,
          19.35346,
          null,
          19.37201,
          19.37355,
          null,
          19.35346,
          19.34625,
          null,
          19.34625,
          19.3361,
          null,
          19.3361,
          19.32435,
          null,
          19.40837,
          19.40854,
          null,
          19.44895,
          19.45514,
          null,
          19.44279,
          19.44322,
          null,
          19.45514,
          19.46463,
          null,
          19.45514,
          19.4514,
          null,
          19.45514,
          19.45887,
          null,
          19.46463,
          19.47436,
          null,
          19.4514,
          19.45126,
          null,
          19.47436,
          19.48294,
          null,
          19.50068,
          19.49104,
          null,
          19.49104,
          19.48985,
          null,
          19.48985,
          19.48867000000001,
          null,
          19.45126,
          19.44569,
          null,
          19.44569,
          19.43427,
          null,
          19.44569,
          19.45101,
          null,
          19.44569,
          19.44084,
          null,
          19.45101,
          19.45809,
          null,
          19.50474,
          19.4949,
          null,
          19.50474,
          19.49064,
          null,
          19.4949,
          19.49091,
          null,
          19.49064,
          19.47911,
          null,
          19.49091,
          19.49067,
          null,
          19.49067,
          19.48867000000001,
          null,
          19.43355,
          19.42576,
          null,
          19.42772,
          19.42155,
          null,
          19.40412,
          19.3983,
          null,
          19.3983,
          19.38829,
          null,
          19.38829,
          19.3791,
          null,
          19.3791,
          19.37321,
          null,
          19.37321,
          19.36484,
          null,
          19.36484,
          19.35275,
          null,
          19.35275,
          19.35783,
          null,
          19.35275,
          19.33685,
          null,
          19.35783,
          19.35605,
          null,
          19.33685,
          19.32815,
          null,
          19.35605,
          19.35106,
          null,
          19.35106,
          19.34597,
          null,
          19.40843,
          19.40854,
          null,
          19.39876,
          19.39128,
          null,
          19.39128,
          19.38515,
          null,
          19.38515,
          19.37331,
          null,
          19.37331,
          19.36472,
          null,
          19.36472,
          19.36031,
          null,
          19.36031,
          19.35904,
          null,
          19.35904,
          19.35056,
          null,
          19.45809,
          19.46167,
          null,
          19.46167,
          19.47289,
          null,
          19.47289,
          19.48575,
          null,
          19.48575,
          19.49069,
          null,
          19.49069,
          19.50149,
          null,
          19.50149,
          19.51513,
          null,
          19.51513,
          19.52135,
          null,
          19.52135,
          19.52848,
          null,
          19.52848,
          19.53451,
          null,
          19.32815,
          19.32215,
          null,
          19.32215,
          19.32047,
          null,
          19.32047,
          19.31761,
          null,
          19.31761,
          19.30631,
          null,
          19.30631,
          19.30432,
          null,
          19.30432,
          19.29996,
          null,
          19.29996,
          19.29666,
          null,
          19.29666,
          19.29435,
          null,
          19.29435,
          19.28602,
          null
         ]
        },
        {
         "hoverinfo": "text",
         "marker": {
          "cmax": 6,
          "cmin": 1,
          "color": [
           1,
           5,
           2,
           2,
           2,
           2,
           2,
           2,
           2,
           2,
           4,
           2,
           2,
           2,
           2,
           4,
           2,
           4,
           2,
           4,
           4,
           4,
           2,
           2,
           2,
           2,
           2,
           2,
           2,
           4,
           2,
           2,
           2,
           1,
           2,
           4,
           2,
           2,
           2,
           2,
           2,
           2,
           2,
           2,
           4,
           4,
           4,
           2,
           2,
           3,
           6,
           3,
           2,
           2,
           2,
           4,
           2,
           2,
           2,
           2,
           2,
           4,
           2,
           2,
           2,
           1,
           1,
           4,
           2,
           2,
           2,
           4,
           2,
           2,
           2,
           1,
           2,
           4,
           2,
           2,
           2,
           2,
           4,
           2,
           2,
           2,
           2,
           2,
           2,
           1,
           1,
           2,
           2,
           2,
           4,
           2,
           2,
           2,
           2,
           2,
           1,
           4,
           2,
           2,
           4,
           2,
           2,
           2,
           2,
           2,
           2,
           2,
           2,
           2,
           2,
           2,
           2,
           1,
           2,
           2,
           2,
           2,
           2,
           2,
           2,
           2,
           2,
           2,
           4,
           2,
           2,
           2,
           2,
           1,
           2,
           2,
           2,
           2,
           2,
           2,
           2,
           2,
           2,
           1,
           2,
           2,
           2,
           2,
           2,
           2,
           2,
           2,
           2,
           1,
           2,
           2,
           2,
           2,
           2,
           2,
           2,
           2,
           2,
           1
          ],
          "colorbar": {
           "thickness": 15,
           "title": {
            "side": "right",
            "text": "# de estaciones conectadas"
           },
           "xanchor": "left"
          },
          "colorscale": [
           [
            0,
            "#30123b"
           ],
           [
            0.07142857142857142,
            "#4145ab"
           ],
           [
            0.14285714285714285,
            "#4675ed"
           ],
           [
            0.21428571428571427,
            "#39a2fc"
           ],
           [
            0.2857142857142857,
            "#1bcfd4"
           ],
           [
            0.35714285714285715,
            "#24eca6"
           ],
           [
            0.42857142857142855,
            "#61fc6c"
           ],
           [
            0.5,
            "#a4fc3b"
           ],
           [
            0.5714285714285714,
            "#d1e834"
           ],
           [
            0.6428571428571429,
            "#f3c63a"
           ],
           [
            0.7142857142857143,
            "#fe9b2d"
           ],
           [
            0.7857142857142857,
            "#f36315"
           ],
           [
            0.8571428571428571,
            "#d93806"
           ],
           [
            0.9285714285714286,
            "#b11901"
           ],
           [
            1,
            "#7a0402"
           ]
          ],
          "line": {
           "width": 2
          },
          "showscale": true,
          "size": 10
         },
         "mode": "markers",
         "text": [
          "OBSERVATORIO\n# de estaciones: 1",
          "TACUBAYA\n# de estaciones: 5",
          "JUANACATLAN\n# de estaciones: 2",
          "SANPEDROPINOS\n# de estaciones: 2",
          "PATRIOTISMO\n# de estaciones: 2",
          "CONSTITUYENTES\n# de estaciones: 2",
          "CHAPULTEPEC\n# de estaciones: 2",
          "SEVILLA\n# de estaciones: 2",
          "INSURGENTES\n# de estaciones: 2",
          "CUAUHTEMOC\n# de estaciones: 2",
          "BALDERAS\n# de estaciones: 4",
          "SALTODELAGUA\n# de estaciones: 2",
          "NINOSHEROES\n# de estaciones: 2",
          "JUAREZ\n# de estaciones: 2",
          "ISABELLACA\n# de estaciones: 2",
          "PINOSUAREZ\n# de estaciones: 4",
          "MERCED\n# de estaciones: 2",
          "SANANTONIO\n# de estaciones: 4",
          "ZOCALO\n# de estaciones: 2",
          "CANDELARIA\n# de estaciones: 4",
          "SANLAZARO\n# de estaciones: 4",
          "MORELOS\n# de estaciones: 4",
          "FRAYSERVANDO\n# de estaciones: 2",
          "MOCTEZUMA\n# de estaciones: 2",
          "RFLORESMAGON\n# de estaciones: 2",
          "BALBUENA\n# de estaciones: 2",
          "PTOAEREO\n# de estaciones: 2",
          "GOMEZFARIAS\n# de estaciones: 2",
          "ZARAGOZA\n# de estaciones: 2",
          "PANTITLAN\n# de estaciones: 4",
          "HANGARES\n# de estaciones: 2",
          "PUEBLA\n# de estaciones: 2",
          "AGRICOLA\n# de estaciones: 2",
          "CUATROCAMIN\n# de estaciones: 1",
          "PANTEONES\n# de estaciones: 2",
          "TACUBA\n# de estaciones: 4",
          "CUITLAHUAC\n# de estaciones: 2",
          "SANJOAQUIN\n# de estaciones: 2",
          "REFINERIA\n# de estaciones: 2",
          "POPOTLA\n# de estaciones: 2",
          "COLMILITAR\n# de estaciones: 2",
          "NORMAL\n# de estaciones: 2",
          "SANCOSME\n# de estaciones: 2",
          "REVOLUCION\n# de estaciones: 2",
          "HIDALGO\n# de estaciones: 4",
          "BELLASARTES\n# de estaciones: 4",
          "GUERRERO\n# de estaciones: 4",
          "ALLENDE\n# de estaciones: 2",
          "SANJUANLETRAN\n# de estaciones: 2",
          "GARIBALDI\n# de estaciones: 3",
          "CHABACANO\n# de estaciones: 6",
          "MIXCOAC\n# de estaciones: 3",
          "VIADUCTO\n# de estaciones: 2",
          "LAVIGA\n# de estaciones: 2",
          "LAZAROCAR\n# de estaciones: 2",
          "JAMAICA\n# de estaciones: 4",
          "OBRERA\n# de estaciones: 2",
          "XOLA\n# de estaciones: 2",
          "VILLADECORT\n# de estaciones: 2",
          "NATIVITAS\n# de estaciones: 2",
          "PORTALES\n# de estaciones: 2",
          "ERMITA\n# de estaciones: 4",
          "GRALANAYA\n# de estaciones: 2",
          "MEXICALTZINGO\n# de estaciones: 2",
          "EJECENTRAL\n# de estaciones: 2",
          "TASQUENA\n# de estaciones: 1",
          "INDIOSVERD\n# de estaciones: 1",
          "DTVO18MARZO\n# de estaciones: 4",
          "POTRERO\n# de estaciones: 2",
          "LAVILLA\n# de estaciones: 2",
          "LINDAVISTA\n# de estaciones: 2",
          "LARAZA\n# de estaciones: 4",
          "TLATELOLCO\n# de estaciones: 2",
          "MISTERIOS\n# de estaciones: 2",
          "AUTOBUSESNTE\n# de estaciones: 2",
          "BUENAVISTA\n# de estaciones: 1",
          "HOSPITALGRAL\n# de estaciones: 2",
          "CENTROMEDICO\n# de estaciones: 4",
          "ETIOPIA\n# de estaciones: 2",
          "CHILPANCINGO\n# de estaciones: 2",
          "EUGENIA\n# de estaciones: 2",
          "DIVISIONNTE\n# de estaciones: 2",
          "ZAPATA\n# de estaciones: 4",
          "COYOACAN\n# de estaciones: 2",
          "PARQUEVENADOS\n# de estaciones: 2",
          "HOSPITAL20\n# de estaciones: 2",
          "VIVEROS\n# de estaciones: 2",
          "MAQ\n# de estaciones: 2",
          "COPILCO\n# de estaciones: 2",
          "UNIVERSIDAD\n# de estaciones: 1",
          "SNTAANITA\n# de estaciones: 1",
          "MIXIUHCA\n# de estaciones: 2",
          "CANALNTE\n# de estaciones: 2",
          "TEPITO\n# de estaciones: 2",
          "CONSULADO\n# de estaciones: 4",
          "BONDOJITO\n# de estaciones: 2",
          "EDUARDOMOLI\n# de estaciones: 2",
          "VALLEGOMEZ\n# de estaciones: 2",
          "TALISMAN\n# de estaciones: 2",
          "MARTINCARR\n# de estaciones: 2",
          "POLITECNICO\n# de estaciones: 1",
          "ITOPETROLEO\n# de estaciones: 4",
          "VALLEJO\n# de estaciones: 2",
          "ARAGON\n# de estaciones: 2",
          "OCEANIA\n# de estaciones: 4",
          "TNALAEREA\n# de estaciones: 2",
          "DPVOOCEANIA\n# de estaciones: 2",
          "ROMERORUBIO\n# de estaciones: 2",
          "ELROSARIO\n# de estaciones: 2",
          "TEZOZOMOC\n# de estaciones: 2",
          "AQUILESSERD\n# de estaciones: 2",
          "AZCAPOTZALCO\n# de estaciones: 2",
          "FERRERIA\n# de estaciones: 2",
          "NORTE45\n# de estaciones: 2",
          "CAMARONES\n# de estaciones: 2",
          "POLANCO\n# de estaciones: 2",
          "AUDITORIO\n# de estaciones: 2",
          "BARRANCA\n# de estaciones: 1",
          "INSURGENTESSUR\n# de estaciones: 2",
          "LAGUNILLA\n# de estaciones: 2",
          "SALTOAGUA\n# de estaciones: 2",
          "DOCTORES\n# de estaciones: 2",
          "STAANITA\n# de estaciones: 2",
          "COYUYA\n# de estaciones: 2",
          "IZTACALCO\n# de estaciones: 2",
          "APATLACO\n# de estaciones: 2",
          "ACULCO\n# de estaciones: 2",
          "ESCUADRON\n# de estaciones: 2",
          "ATLALILCO\n# de estaciones: 4",
          "IZTAPALAPA\n# de estaciones: 2",
          "CULHUACAN\n# de estaciones: 2",
          "CERROESTRELLA\n# de estaciones: 2",
          "UAM\n# de estaciones: 2",
          "CONST1917\n# de estaciones: 1",
          "CIUDADDVA\n# de estaciones: 2",
          "VELODROMO\n# de estaciones: 2",
          "CANALSANJUAN\n# de estaciones: 2",
          "TEPALCATES\n# de estaciones: 2",
          "GUELATAO\n# de estaciones: 2",
          "PENONVIEJO\n# de estaciones: 2",
          "ACATITLA\n# de estaciones: 2",
          "STAMARTA\n# de estaciones: 2",
          "LOSREYES\n# de estaciones: 2",
          "LAPAZ\n# de estaciones: 1",
          "BOSQUEARAGON\n# de estaciones: 2",
          "VILLAARAGON\n# de estaciones: 2",
          "NEZAHUALCO\n# de estaciones: 2",
          "IMPULSORA\n# de estaciones: 2",
          "RIOREMEDIOS\n# de estaciones: 2",
          "MUZQUIZ\n# de estaciones: 2",
          "ECATEPEC\n# de estaciones: 2",
          "OLIMPICA\n# de estaciones: 2",
          "PLAZAARAGON\n# de estaciones: 2",
          "CIUDADAZTECA\n# de estaciones: 1",
          "SANANDRESTO\n# de estaciones: 2",
          "LOMASESTRELLA\n# de estaciones: 2",
          "CALLE11\n# de estaciones: 2",
          "PERIFERICOOTE\n# de estaciones: 2",
          "TEZONCO\n# de estaciones: 2",
          "OLIVOS\n# de estaciones: 2",
          "NOPALERA\n# de estaciones: 2",
          "ZAPOTITLAN\n# de estaciones: 2",
          "TLALTENCO\n# de estaciones: 2",
          "TLAHUAC\n# de estaciones: 1"
         ],
         "textposition": "top center",
         "type": "scatter",
         "x": [
          -99.2004,
          -99.18776,
          -99.18198,
          -99.18581,
          -99.17892,
          -99.19135,
          -99.17642,
          -99.17112,
          -99.16329,
          -99.1546,
          -99.14906,
          -99.14341,
          -99.15036,
          -99.14768,
          -99.13783,
          -99.13294,
          -99.12503,
          -99.18661,
          -99.13225,
          -99.11943,
          -99.11296,
          -99.11957,
          -99.12053,
          -99.1098,
          -99.10371,
          -99.10277,
          -99.09626,
          -99.09021,
          -99.08229,
          -99.07192,
          -99.08813,
          -99.08239,
          -99.06957,
          -99.21584,
          -99.20295,
          -99.18717,
          -99.1815,
          -99.19177,
          -99.19051,
          -99.17549,
          -99.17178,
          -99.16727,
          -99.16066,
          -99.15423,
          -99.14678,
          -99.14042,
          -99.14614,
          -99.13687,
          -99.14125,
          -99.13787,
          -99.13397,
          -99.18673,
          -99.1369,
          -99.12627,
          -99.14463,
          -99.12235,
          -99.14404,
          -99.13781,
          -99.13896,
          -99.14002,
          -99.14157,
          -99.14163,
          -99.14501,
          -99.12314,
          -99.15142,
          -99.13953,
          -99.11951,
          -99.1253,
          -99.13201,
          -99.11837,
          -99.13507,
          -99.13652,
          -99.14313,
          -99.13024,
          -99.14065,
          -99.15235,
          -99.15325,
          -99.15603,
          -99.15603,
          -99.16852,
          -99.1572,
          -99.15948,
          -99.1656,
          -99.17086,
          -99.15872,
          -99.17088,
          -99.176,
          -99.18076,
          -99.17697,
          -99.17394,
          -99.1217,
          -99.11297,
          -99.11613,
          -99.12407,
          -99.11354,
          -99.11198,
          -99.1053,
          -99.11949,
          -99.10801,
          -99.10748,
          -99.14921,
          -99.14813,
          -99.156,
          -99.09621,
          -99.08722,
          -99.08808,
          -99.07933,
          -99.0942,
          -99.20012,
          -99.19602,
          -99.19535,
          -99.18627,
          -99.17415,
          -99.16299,
          -99.19004,
          -99.19093,
          -99.19203,
          -99.18926,
          -99.17825,
          -99.13023,
          -99.14185,
          -99.14319,
          -99.12066,
          -99.11348,
          -99.11211,
          -99.10949,
          -99.1077,
          -99.10948,
          -99.10624,
          -99.09345,
          -99.10896,
          -99.08562,
          -99.07482,
          -99.0638,
          -99.09125,
          -99.10316,
          -99.05942,
          -99.04633,
          -99.03566,
          -99.01705,
          -99.00567,
          -98.99518,
          -98.97687,
          -98.96094,
          -99.06929,
          -99.06138,
          -99.05461,
          -99.04896,
          -99.04679,
          -99.04207,
          -99.03607,
          -99.03334,
          -99.03018,
          -99.02751,
          -99.10452,
          -99.09575,
          -99.08587,
          -99.07451,
          -99.06527,
          -99.05951,
          -99.04599,
          -99.03431,
          -99.02403,
          -99.0142
         ],
         "y": [
          19.39828,
          19.40146,
          19.41295,
          19.39149,
          19.40611,
          19.41177,
          19.42075,
          19.42185,
          19.42365,
          19.42566,
          19.42648,
          19.42695,
          19.41948,
          19.43325,
          19.42639,
          19.42438,
          19.42549,
          19.38434,
          19.4325,
          19.42876,
          19.43237,
          19.43917,
          19.42159,
          19.42685,
          19.43657,
          19.42336,
          19.41994,
          19.41648,
          19.41192,
          19.4153,
          19.42435,
          19.40719,
          19.40462,
          19.45959,
          19.45864,
          19.45823,
          19.45725,
          19.44501,
          19.46947,
          19.45291,
          19.44927,
          19.44456,
          19.4419,
          19.43923,
          19.43738,
          19.43701,
          19.44514,
          19.43556,
          19.43158,
          19.44389,
          19.40851,
          19.3757,
          19.40087,
          19.40671,
          19.40722,
          19.4091,
          19.41324,
          19.39521,
          19.38758,
          19.38005,
          19.36992,
          19.359820000000006,
          19.35324,
          19.35776,
          19.36134,
          19.34376,
          19.49534,
          19.48348,
          19.47719,
          19.48174,
          19.48811,
          19.46967,
          19.45506,
          19.46311,
          19.47907,
          19.44619,
          19.41376,
          19.40656,
          19.39592,
          19.40593,
          19.38617,
          19.37918,
          19.37085,
          19.36136,
          19.37066,
          19.37201,
          19.35346,
          19.34625,
          19.3361,
          19.32435,
          19.40289,
          19.40837,
          19.44895,
          19.44279,
          19.45514,
          19.46463,
          19.4514,
          19.45887,
          19.47436,
          19.48294,
          19.50068,
          19.49104,
          19.48985,
          19.45126,
          19.44569,
          19.43427,
          19.45101,
          19.44084,
          19.50474,
          19.4949,
          19.49064,
          19.49091,
          19.49067,
          19.48867000000001,
          19.47911,
          19.43355,
          19.42576,
          19.3615,
          19.37355,
          19.44322,
          19.42772,
          19.42155,
          19.40412,
          19.3983,
          19.38829,
          19.3791,
          19.37321,
          19.36484,
          19.35275,
          19.35783,
          19.33685,
          19.35605,
          19.35106,
          19.34597,
          19.40843,
          19.40854,
          19.39876,
          19.39128,
          19.38515,
          19.37331,
          19.36472,
          19.36031,
          19.35904,
          19.35056,
          19.45809,
          19.46167,
          19.47289,
          19.48575,
          19.49069,
          19.50149,
          19.51513,
          19.52135,
          19.52848,
          19.53451,
          19.32815,
          19.32215,
          19.32047,
          19.31761,
          19.30631,
          19.30432,
          19.29996,
          19.29666,
          19.29435,
          19.28602
         ]
        }
       ],
       "layout": {
        "annotations": [
         {
          "showarrow": false,
          "text": "",
          "xref": "paper",
          "yref": "paper"
         }
        ],
        "autosize": false,
        "height": 800,
        "hovermode": "closest",
        "margin": {
         "b": 20,
         "l": 5,
         "r": 5,
         "t": 40
        },
        "showlegend": false,
        "template": {
         "data": {
          "bar": [
           {
            "error_x": {
             "color": "#2a3f5f"
            },
            "error_y": {
             "color": "#2a3f5f"
            },
            "marker": {
             "line": {
              "color": "#E5ECF6",
              "width": 0.5
             },
             "pattern": {
              "fillmode": "overlay",
              "size": 10,
              "solidity": 0.2
             }
            },
            "type": "bar"
           }
          ],
          "barpolar": [
           {
            "marker": {
             "line": {
              "color": "#E5ECF6",
              "width": 0.5
             },
             "pattern": {
              "fillmode": "overlay",
              "size": 10,
              "solidity": 0.2
             }
            },
            "type": "barpolar"
           }
          ],
          "carpet": [
           {
            "aaxis": {
             "endlinecolor": "#2a3f5f",
             "gridcolor": "white",
             "linecolor": "white",
             "minorgridcolor": "white",
             "startlinecolor": "#2a3f5f"
            },
            "baxis": {
             "endlinecolor": "#2a3f5f",
             "gridcolor": "white",
             "linecolor": "white",
             "minorgridcolor": "white",
             "startlinecolor": "#2a3f5f"
            },
            "type": "carpet"
           }
          ],
          "choropleth": [
           {
            "colorbar": {
             "outlinewidth": 0,
             "ticks": ""
            },
            "type": "choropleth"
           }
          ],
          "contour": [
           {
            "colorbar": {
             "outlinewidth": 0,
             "ticks": ""
            },
            "colorscale": [
             [
              0,
              "#0d0887"
             ],
             [
              0.1111111111111111,
              "#46039f"
             ],
             [
              0.2222222222222222,
              "#7201a8"
             ],
             [
              0.3333333333333333,
              "#9c179e"
             ],
             [
              0.4444444444444444,
              "#bd3786"
             ],
             [
              0.5555555555555556,
              "#d8576b"
             ],
             [
              0.6666666666666666,
              "#ed7953"
             ],
             [
              0.7777777777777778,
              "#fb9f3a"
             ],
             [
              0.8888888888888888,
              "#fdca26"
             ],
             [
              1,
              "#f0f921"
             ]
            ],
            "type": "contour"
           }
          ],
          "contourcarpet": [
           {
            "colorbar": {
             "outlinewidth": 0,
             "ticks": ""
            },
            "type": "contourcarpet"
           }
          ],
          "heatmap": [
           {
            "colorbar": {
             "outlinewidth": 0,
             "ticks": ""
            },
            "colorscale": [
             [
              0,
              "#0d0887"
             ],
             [
              0.1111111111111111,
              "#46039f"
             ],
             [
              0.2222222222222222,
              "#7201a8"
             ],
             [
              0.3333333333333333,
              "#9c179e"
             ],
             [
              0.4444444444444444,
              "#bd3786"
             ],
             [
              0.5555555555555556,
              "#d8576b"
             ],
             [
              0.6666666666666666,
              "#ed7953"
             ],
             [
              0.7777777777777778,
              "#fb9f3a"
             ],
             [
              0.8888888888888888,
              "#fdca26"
             ],
             [
              1,
              "#f0f921"
             ]
            ],
            "type": "heatmap"
           }
          ],
          "heatmapgl": [
           {
            "colorbar": {
             "outlinewidth": 0,
             "ticks": ""
            },
            "colorscale": [
             [
              0,
              "#0d0887"
             ],
             [
              0.1111111111111111,
              "#46039f"
             ],
             [
              0.2222222222222222,
              "#7201a8"
             ],
             [
              0.3333333333333333,
              "#9c179e"
             ],
             [
              0.4444444444444444,
              "#bd3786"
             ],
             [
              0.5555555555555556,
              "#d8576b"
             ],
             [
              0.6666666666666666,
              "#ed7953"
             ],
             [
              0.7777777777777778,
              "#fb9f3a"
             ],
             [
              0.8888888888888888,
              "#fdca26"
             ],
             [
              1,
              "#f0f921"
             ]
            ],
            "type": "heatmapgl"
           }
          ],
          "histogram": [
           {
            "marker": {
             "pattern": {
              "fillmode": "overlay",
              "size": 10,
              "solidity": 0.2
             }
            },
            "type": "histogram"
           }
          ],
          "histogram2d": [
           {
            "colorbar": {
             "outlinewidth": 0,
             "ticks": ""
            },
            "colorscale": [
             [
              0,
              "#0d0887"
             ],
             [
              0.1111111111111111,
              "#46039f"
             ],
             [
              0.2222222222222222,
              "#7201a8"
             ],
             [
              0.3333333333333333,
              "#9c179e"
             ],
             [
              0.4444444444444444,
              "#bd3786"
             ],
             [
              0.5555555555555556,
              "#d8576b"
             ],
             [
              0.6666666666666666,
              "#ed7953"
             ],
             [
              0.7777777777777778,
              "#fb9f3a"
             ],
             [
              0.8888888888888888,
              "#fdca26"
             ],
             [
              1,
              "#f0f921"
             ]
            ],
            "type": "histogram2d"
           }
          ],
          "histogram2dcontour": [
           {
            "colorbar": {
             "outlinewidth": 0,
             "ticks": ""
            },
            "colorscale": [
             [
              0,
              "#0d0887"
             ],
             [
              0.1111111111111111,
              "#46039f"
             ],
             [
              0.2222222222222222,
              "#7201a8"
             ],
             [
              0.3333333333333333,
              "#9c179e"
             ],
             [
              0.4444444444444444,
              "#bd3786"
             ],
             [
              0.5555555555555556,
              "#d8576b"
             ],
             [
              0.6666666666666666,
              "#ed7953"
             ],
             [
              0.7777777777777778,
              "#fb9f3a"
             ],
             [
              0.8888888888888888,
              "#fdca26"
             ],
             [
              1,
              "#f0f921"
             ]
            ],
            "type": "histogram2dcontour"
           }
          ],
          "mesh3d": [
           {
            "colorbar": {
             "outlinewidth": 0,
             "ticks": ""
            },
            "type": "mesh3d"
           }
          ],
          "parcoords": [
           {
            "line": {
             "colorbar": {
              "outlinewidth": 0,
              "ticks": ""
             }
            },
            "type": "parcoords"
           }
          ],
          "pie": [
           {
            "automargin": true,
            "type": "pie"
           }
          ],
          "scatter": [
           {
            "fillpattern": {
             "fillmode": "overlay",
             "size": 10,
             "solidity": 0.2
            },
            "type": "scatter"
           }
          ],
          "scatter3d": [
           {
            "line": {
             "colorbar": {
              "outlinewidth": 0,
              "ticks": ""
             }
            },
            "marker": {
             "colorbar": {
              "outlinewidth": 0,
              "ticks": ""
             }
            },
            "type": "scatter3d"
           }
          ],
          "scattercarpet": [
           {
            "marker": {
             "colorbar": {
              "outlinewidth": 0,
              "ticks": ""
             }
            },
            "type": "scattercarpet"
           }
          ],
          "scattergeo": [
           {
            "marker": {
             "colorbar": {
              "outlinewidth": 0,
              "ticks": ""
             }
            },
            "type": "scattergeo"
           }
          ],
          "scattergl": [
           {
            "marker": {
             "colorbar": {
              "outlinewidth": 0,
              "ticks": ""
             }
            },
            "type": "scattergl"
           }
          ],
          "scattermapbox": [
           {
            "marker": {
             "colorbar": {
              "outlinewidth": 0,
              "ticks": ""
             }
            },
            "type": "scattermapbox"
           }
          ],
          "scatterpolar": [
           {
            "marker": {
             "colorbar": {
              "outlinewidth": 0,
              "ticks": ""
             }
            },
            "type": "scatterpolar"
           }
          ],
          "scatterpolargl": [
           {
            "marker": {
             "colorbar": {
              "outlinewidth": 0,
              "ticks": ""
             }
            },
            "type": "scatterpolargl"
           }
          ],
          "scatterternary": [
           {
            "marker": {
             "colorbar": {
              "outlinewidth": 0,
              "ticks": ""
             }
            },
            "type": "scatterternary"
           }
          ],
          "surface": [
           {
            "colorbar": {
             "outlinewidth": 0,
             "ticks": ""
            },
            "colorscale": [
             [
              0,
              "#0d0887"
             ],
             [
              0.1111111111111111,
              "#46039f"
             ],
             [
              0.2222222222222222,
              "#7201a8"
             ],
             [
              0.3333333333333333,
              "#9c179e"
             ],
             [
              0.4444444444444444,
              "#bd3786"
             ],
             [
              0.5555555555555556,
              "#d8576b"
             ],
             [
              0.6666666666666666,
              "#ed7953"
             ],
             [
              0.7777777777777778,
              "#fb9f3a"
             ],
             [
              0.8888888888888888,
              "#fdca26"
             ],
             [
              1,
              "#f0f921"
             ]
            ],
            "type": "surface"
           }
          ],
          "table": [
           {
            "cells": {
             "fill": {
              "color": "#EBF0F8"
             },
             "line": {
              "color": "white"
             }
            },
            "header": {
             "fill": {
              "color": "#C8D4E3"
             },
             "line": {
              "color": "white"
             }
            },
            "type": "table"
           }
          ]
         },
         "layout": {
          "annotationdefaults": {
           "arrowcolor": "#2a3f5f",
           "arrowhead": 0,
           "arrowwidth": 1
          },
          "autotypenumbers": "strict",
          "coloraxis": {
           "colorbar": {
            "outlinewidth": 0,
            "ticks": ""
           }
          },
          "colorscale": {
           "diverging": [
            [
             0,
             "#8e0152"
            ],
            [
             0.1,
             "#c51b7d"
            ],
            [
             0.2,
             "#de77ae"
            ],
            [
             0.3,
             "#f1b6da"
            ],
            [
             0.4,
             "#fde0ef"
            ],
            [
             0.5,
             "#f7f7f7"
            ],
            [
             0.6,
             "#e6f5d0"
            ],
            [
             0.7,
             "#b8e186"
            ],
            [
             0.8,
             "#7fbc41"
            ],
            [
             0.9,
             "#4d9221"
            ],
            [
             1,
             "#276419"
            ]
           ],
           "sequential": [
            [
             0,
             "#0d0887"
            ],
            [
             0.1111111111111111,
             "#46039f"
            ],
            [
             0.2222222222222222,
             "#7201a8"
            ],
            [
             0.3333333333333333,
             "#9c179e"
            ],
            [
             0.4444444444444444,
             "#bd3786"
            ],
            [
             0.5555555555555556,
             "#d8576b"
            ],
            [
             0.6666666666666666,
             "#ed7953"
            ],
            [
             0.7777777777777778,
             "#fb9f3a"
            ],
            [
             0.8888888888888888,
             "#fdca26"
            ],
            [
             1,
             "#f0f921"
            ]
           ],
           "sequentialminus": [
            [
             0,
             "#0d0887"
            ],
            [
             0.1111111111111111,
             "#46039f"
            ],
            [
             0.2222222222222222,
             "#7201a8"
            ],
            [
             0.3333333333333333,
             "#9c179e"
            ],
            [
             0.4444444444444444,
             "#bd3786"
            ],
            [
             0.5555555555555556,
             "#d8576b"
            ],
            [
             0.6666666666666666,
             "#ed7953"
            ],
            [
             0.7777777777777778,
             "#fb9f3a"
            ],
            [
             0.8888888888888888,
             "#fdca26"
            ],
            [
             1,
             "#f0f921"
            ]
           ]
          },
          "colorway": [
           "#636efa",
           "#EF553B",
           "#00cc96",
           "#ab63fa",
           "#FFA15A",
           "#19d3f3",
           "#FF6692",
           "#B6E880",
           "#FF97FF",
           "#FECB52"
          ],
          "font": {
           "color": "#2a3f5f"
          },
          "geo": {
           "bgcolor": "white",
           "lakecolor": "white",
           "landcolor": "#E5ECF6",
           "showlakes": true,
           "showland": true,
           "subunitcolor": "white"
          },
          "hoverlabel": {
           "align": "left"
          },
          "hovermode": "closest",
          "mapbox": {
           "style": "light"
          },
          "paper_bgcolor": "white",
          "plot_bgcolor": "#E5ECF6",
          "polar": {
           "angularaxis": {
            "gridcolor": "white",
            "linecolor": "white",
            "ticks": ""
           },
           "bgcolor": "#E5ECF6",
           "radialaxis": {
            "gridcolor": "white",
            "linecolor": "white",
            "ticks": ""
           }
          },
          "scene": {
           "xaxis": {
            "backgroundcolor": "#E5ECF6",
            "gridcolor": "white",
            "gridwidth": 2,
            "linecolor": "white",
            "showbackground": true,
            "ticks": "",
            "zerolinecolor": "white"
           },
           "yaxis": {
            "backgroundcolor": "#E5ECF6",
            "gridcolor": "white",
            "gridwidth": 2,
            "linecolor": "white",
            "showbackground": true,
            "ticks": "",
            "zerolinecolor": "white"
           },
           "zaxis": {
            "backgroundcolor": "#E5ECF6",
            "gridcolor": "white",
            "gridwidth": 2,
            "linecolor": "white",
            "showbackground": true,
            "ticks": "",
            "zerolinecolor": "white"
           }
          },
          "shapedefaults": {
           "line": {
            "color": "#2a3f5f"
           }
          },
          "ternary": {
           "aaxis": {
            "gridcolor": "white",
            "linecolor": "white",
            "ticks": ""
           },
           "baxis": {
            "gridcolor": "white",
            "linecolor": "white",
            "ticks": ""
           },
           "bgcolor": "#E5ECF6",
           "caxis": {
            "gridcolor": "white",
            "linecolor": "white",
            "ticks": ""
           }
          },
          "title": {
           "x": 0.05
          },
          "xaxis": {
           "automargin": true,
           "gridcolor": "white",
           "linecolor": "white",
           "ticks": "",
           "title": {
            "standoff": 15
           },
           "zerolinecolor": "white",
           "zerolinewidth": 2
          },
          "yaxis": {
           "automargin": true,
           "gridcolor": "white",
           "linecolor": "white",
           "ticks": "",
           "title": {
            "standoff": 15
           },
           "zerolinecolor": "white",
           "zerolinewidth": 2
          }
         }
        },
        "title": {
         "font": {
          "size": 16
         },
         "text": "Visualización de la red de metro de la CDMX"
        },
        "width": 800,
        "xaxis": {
         "showgrid": false,
         "zeroline": false
        },
        "yaxis": {
         "showgrid": false,
         "zeroline": false
        }
       }
      }
     },
     "metadata": {},
     "output_type": "display_data"
    }
   ],
   "source": [
    "G = nx.Graph()\n",
    "\n",
    "for node, edges in metro_network.items():\n",
    "    for edge in edges:\n",
    "        target, weight = edge\n",
    "        G.add_edge(node, target, weight=weight.total_seconds())\n",
    "\n",
    "node_degrees = dict(G.degree())\n",
    "\n",
    "max_degree = max(node_degrees.values())\n",
    "min_degree = min(node_degrees.values())\n",
    "\n",
    "node_colors = [node_degrees[node] for node in G.nodes()]\n",
    "\n",
    "edge_x = []\n",
    "edge_y = []\n",
    "for edge in G.edges():\n",
    "    x0, y0 = location_stations[edge[0]]\n",
    "    x1, y1 = location_stations[edge[1]]\n",
    "    edge_x.append(x0)\n",
    "    edge_x.append(x1)\n",
    "    edge_x.append(None)\n",
    "    edge_y.append(y0)\n",
    "    edge_y.append(y1)\n",
    "    edge_y.append(None)\n",
    "\n",
    "node_x = []\n",
    "node_y = []\n",
    "node_text = []\n",
    "for node in G.nodes():\n",
    "    x, y = location_stations[node]\n",
    "    node_x.append(x)\n",
    "    node_y.append(y)\n",
    "    node_text.append(f\"{node}\\n# de estaciones: {node_degrees[node]}\")\n",
    "\n",
    "edge_trace = go.Scatter(\n",
    "    x=edge_x, y=edge_y,\n",
    "    line=dict(width=2, color='gray'),\n",
    "    hoverinfo='none',\n",
    "    mode='lines')\n",
    "\n",
    "node_trace = go.Scatter(\n",
    "    x=node_x, y=node_y,\n",
    "    mode='markers',\n",
    "    hoverinfo='text',\n",
    "    text=node_text,\n",
    "    textposition=\"top center\",\n",
    "    marker=dict(\n",
    "        showscale=True,\n",
    "        colorscale='turbo',\n",
    "        cmin=min_degree,\n",
    "        cmax=max_degree,\n",
    "        color=node_colors,\n",
    "        size=10,\n",
    "        colorbar=dict(\n",
    "            thickness=15,\n",
    "            title='# de estaciones conectadas',\n",
    "            xanchor='left',\n",
    "            titleside='right'\n",
    "        ),\n",
    "        line_width=2))\n",
    "\n",
    "fig = go.Figure(data=[edge_trace, node_trace],\n",
    "                layout=go.Layout(\n",
    "                    title='Visualización de la red de metro de la CDMX',\n",
    "                    titlefont_size=16,\n",
    "                    showlegend=False,\n",
    "                    hovermode='closest',\n",
    "                    margin=dict(b=20, l=5, r=5, t=40),\n",
    "                    annotations=[dict(\n",
    "                        text=\"\",\n",
    "                        showarrow=False,\n",
    "                        xref=\"paper\", yref=\"paper\")],\n",
    "                    xaxis=dict(showgrid=False, zeroline=False),\n",
    "                    yaxis=dict(showgrid=False, zeroline=False)))\n",
    "fig.update_layout(\n",
    "    autosize=False,\n",
    "    width=800,\n",
    "    height=800,\n",
    ")\n",
    "\n",
    "fig.show()"
   ]
  }
 ],
 "metadata": {
  "kernelspec": {
   "display_name": "Python 3",
   "language": "python",
   "name": "python3"
  },
  "language_info": {
   "codemirror_mode": {
    "name": "ipython",
    "version": 3
   },
   "file_extension": ".py",
   "mimetype": "text/x-python",
   "name": "python",
   "nbconvert_exporter": "python",
   "pygments_lexer": "ipython3",
   "version": "3.12.3"
  }
 },
 "nbformat": 4,
 "nbformat_minor": 2
}
