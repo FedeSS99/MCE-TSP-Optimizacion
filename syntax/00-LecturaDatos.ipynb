{
 "cells": [
  {
   "cell_type": "markdown",
   "id": "c7757884",
   "metadata": {},
   "source": [
    "# Proyecto de Optimización\n",
    "## CIMAT Monterrey\n",
    "### Aplicación del TSP al GTFS de Ciudad de México para la Planificación Eficiente de Rutas\n",
    "- Semiramis G. de la Cruz\n",
    "- Federico Salinas Samaniego\n",
    "\n",
    "## Lectura de datos"
   ]
  },
  {
   "cell_type": "code",
   "execution_count": 1,
   "id": "d652cefd",
   "metadata": {},
   "outputs": [
    {
     "name": "stdout",
     "output_type": "stream",
     "text": [
      "                                           Contenido\n",
      "0  agency_id,agency_name,agency_url,agency_timezo...\n"
     ]
    }
   ],
   "source": [
    "import os\n",
    "import pandas as pd\n",
    "\n",
    "#PATH = \"C:\\\\Users\\\\semir\\\\Documents\\\\CIMAT\\\\Optimizacion\\\\Proyecto\\\\\"\n",
    "PATH = \"../\"\n",
    "files = os.listdir(os.path.join(PATH, 'data'))\n",
    "\n",
    "dataframes = {}\n",
    "for file in files:\n",
    "    with open(os.path.join(PATH, 'data', file), 'r') as f:\n",
    "        content = f.read()\n",
    "        # Crear un DataFrame para cada archivo con una sola columna 'Contenido'\n",
    "        dataframes[file] = pd.DataFrame({'Contenido': [content]})\n",
    "\n",
    "# Acceder a un DataFrame específico por el nombre del archivo\n",
    "print(dataframes['agency.txt'])\n"
   ]
  }
 ],
 "metadata": {
  "kernelspec": {
   "display_name": "Python 3 (ipykernel)",
   "language": "python",
   "name": "python3"
  },
  "language_info": {
   "codemirror_mode": {
    "name": "ipython",
    "version": 3
   },
   "file_extension": ".py",
   "mimetype": "text/x-python",
   "name": "python",
   "nbconvert_exporter": "python",
   "pygments_lexer": "ipython3",
   "version": "3.11.4"
  }
 },
 "nbformat": 4,
 "nbformat_minor": 5
}
