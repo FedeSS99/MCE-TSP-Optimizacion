{
 "cells": [
  {
   "cell_type": "markdown",
   "id": "c7757884",
   "metadata": {},
   "source": [
    "# Proyecto de Optimización\n",
    "## CIMAT Monterrey\n",
    "### Aplicación del TSP al GTFS de Ciudad de México para la Planificación Eficiente de Rutas\n",
    "- Semiramis G. de la Cruz\n",
    "- Federico Salinas Samaniego\n",
    "\n",
    "## Lectura de datos"
   ]
  },
  {
   "cell_type": "code",
   "execution_count": 1,
   "id": "d652cefd",
   "metadata": {},
   "outputs": [
    {
     "name": "stdout",
     "output_type": "stream",
     "text": [
      "                                           Contenido\n",
      "0  agency_id,agency_name,agency_url,agency_timezo...\n"
     ]
    }
   ],
   "source": [
    "import os\n",
    "import pandas as pd\n",
    "\n",
    "#PATH = \"C:\\\\Users\\\\semir\\\\Documents\\\\CIMAT\\\\Optimizacion\\\\Proyecto\\\\\"\n",
    "PATH = \"../\"\n",
    "files = os.listdir(os.path.join(PATH, 'data'))\n",
    "\n",
    "dataframes = {}\n",
    "for file in files:\n",
    "    with open(os.path.join(PATH, 'data', file), 'r') as f:\n",
    "        content = f.read()\n",
    "        # Crear un DataFrame para cada archivo con una sola columna 'Contenido'\n",
    "        dataframes[file] = pd.DataFrame({'Contenido': [content]})\n",
    "\n",
    "# Acceder a un DataFrame específico por el nombre del archivo\n",
    "print(dataframes['agency.txt'])\n"
   ]
  },
  {
   "cell_type": "code",
   "execution_count": 2,
   "id": "064feccf",
   "metadata": {},
   "outputs": [
    {
     "ename": "FileNotFoundError",
     "evalue": "[Errno 2] No such file or directory: 'C:\\\\Users\\\\semir\\\\Documents\\\\CIMAT\\\\Optimizacion\\\\Proyecto\\\\/data'",
     "output_type": "error",
     "traceback": [
      "\u001b[0;31m---------------------------------------------------------------------------\u001b[0m",
      "\u001b[0;31mFileNotFoundError\u001b[0m                         Traceback (most recent call last)",
      "Cell \u001b[0;32mIn[2], line 12\u001b[0m\n\u001b[1;32m      9\u001b[0m dataframes \u001b[38;5;241m=\u001b[39m []\n\u001b[1;32m     11\u001b[0m \u001b[38;5;66;03m# Iterar sobre cada archivo en la carpeta\u001b[39;00m\n\u001b[0;32m---> 12\u001b[0m \u001b[38;5;28;01mfor\u001b[39;00m archivo \u001b[38;5;129;01min\u001b[39;00m \u001b[43mos\u001b[49m\u001b[38;5;241;43m.\u001b[39;49m\u001b[43mlistdir\u001b[49m\u001b[43m(\u001b[49m\u001b[43mcarpeta_data\u001b[49m\u001b[43m)\u001b[49m:\n\u001b[1;32m     13\u001b[0m     \u001b[38;5;66;03m# Comprobar si el archivo es un archivo de texto\u001b[39;00m\n\u001b[1;32m     14\u001b[0m     \u001b[38;5;28;01mif\u001b[39;00m archivo\u001b[38;5;241m.\u001b[39mendswith(\u001b[38;5;124m'\u001b[39m\u001b[38;5;124m.txt\u001b[39m\u001b[38;5;124m'\u001b[39m):\n\u001b[1;32m     15\u001b[0m         \u001b[38;5;66;03m# Ruta completa del archivo\u001b[39;00m\n\u001b[1;32m     16\u001b[0m         ruta_archivo \u001b[38;5;241m=\u001b[39m os\u001b[38;5;241m.\u001b[39mpath\u001b[38;5;241m.\u001b[39mjoin(carpeta_data, archivo)\n",
      "\u001b[0;31mFileNotFoundError\u001b[0m: [Errno 2] No such file or directory: 'C:\\\\Users\\\\semir\\\\Documents\\\\CIMAT\\\\Optimizacion\\\\Proyecto\\\\/data'"
     ]
    }
   ],
   "source": [
    "import os\n",
    "import pandas as pd\n",
    "\n",
    "# Ruta de la carpeta que contiene los archivos\n",
    "#PATH = \"C:\\\\Users\\\\semir\\\\Documents\\\\CIMAT\\\\Optimizacion\\\\Proyecto\\\\\"\n",
    "carpeta_data = os.path.join(PATH, 'data')\n",
    "\n",
    "# Lista para almacenar los DataFrames\n",
    "dataframes = []\n",
    "\n",
    "# Iterar sobre cada archivo en la carpeta\n",
    "for archivo in os.listdir(carpeta_data):\n",
    "    # Comprobar si el archivo es un archivo de texto\n",
    "    if archivo.endswith('.txt'):\n",
    "        # Ruta completa del archivo\n",
    "        ruta_archivo = os.path.join(carpeta_data, archivo)\n",
    "        # Leer el archivo de texto y convertirlo en un DataFrame\n",
    "        df = pd.read_csv(ruta_archivo, sep=',')\n",
    "        # Obtener el nombre del archivo sin la extensión\n",
    "        nombre_dataframe = os.path.splitext(archivo)[0]\n",
    "        # Asignar el nombre del archivo como nombre del DataFrame\n",
    "        df.name = nombre_dataframe\n",
    "        # Agregar el DataFrame a la lista\n",
    "        dataframes.append(df)\n",
    "\n",
    "# Mostrar el nombre de cada DataFrame\n",
    "for i, df in enumerate(dataframes):\n",
    "    print(f\"DataFrame {i + 1}: {df.name}\")\n",
    "    print(df.head())\n"
   ]
  }
 ],
 "metadata": {
  "kernelspec": {
   "display_name": "Python 3 (ipykernel)",
   "language": "python",
   "name": "python3"
  },
  "language_info": {
   "codemirror_mode": {
    "name": "ipython",
    "version": 3
   },
   "file_extension": ".py",
   "mimetype": "text/x-python",
   "name": "python",
   "nbconvert_exporter": "python",
   "pygments_lexer": "ipython3",
   "version": "3.12.2"
  }
 },
 "nbformat": 4,
 "nbformat_minor": 5
}
