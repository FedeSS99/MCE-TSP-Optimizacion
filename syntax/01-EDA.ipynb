{
 "cells": [
  {
   "cell_type": "markdown",
   "metadata": {},
   "source": [
    "# EDA - Federico"
   ]
  },
  {
   "cell_type": "markdown",
   "metadata": {},
   "source": [
    "Importamos librerías"
   ]
  },
  {
   "cell_type": "code",
   "execution_count": 8,
   "metadata": {},
   "outputs": [],
   "source": [
    "import os\n",
    "import pandas as pd"
   ]
  },
  {
   "cell_type": "markdown",
   "metadata": {},
   "source": [
    "Cargamos los datos en un solo diccionario separados en dataframes"
   ]
  },
  {
   "cell_type": "code",
   "execution_count": 9,
   "metadata": {},
   "outputs": [],
   "source": [
    "\n",
    "PATH = \"../\"\n",
    "data_path = os.path.join(PATH, 'data')\n",
    "data_files = os.listdir(data_path)\n",
    "\n",
    "dataframes : dict[pd.DataFrame] = {}\n",
    "for file in data_files:\n",
    "    datafile_fullpath = os.path.join(data_path, file)\n",
    "    dataframes[file.split(\".\")[0]] = pd.read_csv(datafile_fullpath)"
   ]
  },
  {
   "cell_type": "markdown",
   "metadata": {},
   "source": [
    "¿Cuáles son las rutas más saturadas/ocupadas?\n",
    "\n",
    "Se determinara la \"ocupación\" de la ruta como el total de paradas, *stop_times* , por cada ruta dados la información de los viajes realizados, *trips*. "
   ]
  },
  {
   "cell_type": "code",
   "execution_count": 33,
   "metadata": {},
   "outputs": [
    {
     "name": "stdout",
     "output_type": "stream",
     "text": [
      "route_id\n",
      "CMX0100Z1    1354\n",
      "CMX0300L1     894\n",
      "CMX0300L3     684\n",
      "CMX0300L2     634\n",
      "CMX0300L7     598\n",
      "             ... \n",
      "CMX0900R7      18\n",
      "CMX05300B      16\n",
      "CMX090R11      14\n",
      "CMX090R13      11\n",
      "CMX05300A       6\n",
      "Name: count, Length: 270, dtype: int64\n"
     ]
    },
    {
     "data": {
      "text/plain": [
       "<Axes: xlabel='route_id'>"
      ]
     },
     "execution_count": 33,
     "metadata": {},
     "output_type": "execute_result"
    },
    {
     "data": {
      "image/png": "[encoded data removed]",
      "text/plain": [
       "<Figure size 640x480 with 1 Axes>"
      ]
     },
     "metadata": {},
     "output_type": "display_data"
    }
   ],
   "source": [
    "count_trips_routes = dataframes[\"stop_times\"].merge(dataframes[\"trips\"], on='trip_id')['route_id'].value_counts()\n",
    "print(count_trips_routes)\n",
    "count_trips_routes.plot()"
   ]
  },
  {
   "cell_type": "markdown",
   "metadata": {},
   "source": [
    "Hallamos las 10 rutas más \"ocupadas\" dado los conteos anteriores"
   ]
  },
  {
   "cell_type": "code",
   "execution_count": 29,
   "metadata": {},
   "outputs": [
    {
     "data": {
      "text/html": [
       "<div>\n",
       "<style scoped>\n",
       "    .dataframe tbody tr th:only-of-type {\n",
       "        vertical-align: middle;\n",
       "    }\n",
       "\n",
       "    .dataframe tbody tr th {\n",
       "        vertical-align: top;\n",
       "    }\n",
       "\n",
       "    .dataframe thead th {\n",
       "        text-align: right;\n",
       "    }\n",
       "</style>\n",
       "<table border=\"1\" class=\"dataframe\">\n",
       "  <thead>\n",
       "    <tr style=\"text-align: right;\">\n",
       "      <th></th>\n",
       "      <th>route_id</th>\n",
       "      <th>agency_id</th>\n",
       "      <th>route_short_name</th>\n",
       "      <th>route_long_name</th>\n",
       "      <th>route_type</th>\n",
       "      <th>route_color</th>\n",
       "      <th>route_text_color</th>\n",
       "    </tr>\n",
       "  </thead>\n",
       "  <tbody>\n",
       "    <tr>\n",
       "      <th>51</th>\n",
       "      <td>CMX0100Z1</td>\n",
       "      <td>CC</td>\n",
       "      <td>Z1</td>\n",
       "      <td>Zonal 1 Cuautepec</td>\n",
       "      <td>3</td>\n",
       "      <td>9B26B6</td>\n",
       "      <td>FFFFFF</td>\n",
       "    </tr>\n",
       "    <tr>\n",
       "      <th>62</th>\n",
       "      <td>CMX0300L7</td>\n",
       "      <td>MB</td>\n",
       "      <td>7</td>\n",
       "      <td>Indios Verdes - Campo Marte</td>\n",
       "      <td>3</td>\n",
       "      <td>116633</td>\n",
       "      <td>FFFFFF</td>\n",
       "    </tr>\n",
       "    <tr>\n",
       "      <th>66</th>\n",
       "      <td>CMX0300L3</td>\n",
       "      <td>MB</td>\n",
       "      <td>3</td>\n",
       "      <td>Tenayuca - Pueblo Sta. Cruz Atoyac</td>\n",
       "      <td>3</td>\n",
       "      <td>7A9A01</td>\n",
       "      <td>FFFFFF</td>\n",
       "    </tr>\n",
       "    <tr>\n",
       "      <th>67</th>\n",
       "      <td>CMX0300L2</td>\n",
       "      <td>MB</td>\n",
       "      <td>2</td>\n",
       "      <td>Tepalcates - Tacubaya</td>\n",
       "      <td>3</td>\n",
       "      <td>8D1A96</td>\n",
       "      <td>FFFFFF</td>\n",
       "    </tr>\n",
       "    <tr>\n",
       "      <th>68</th>\n",
       "      <td>CMX0300L1</td>\n",
       "      <td>MB</td>\n",
       "      <td>1</td>\n",
       "      <td>Indios Verdes - El Caminero</td>\n",
       "      <td>3</td>\n",
       "      <td>D40D0D</td>\n",
       "      <td>FFFFFF</td>\n",
       "    </tr>\n",
       "    <tr>\n",
       "      <th>73</th>\n",
       "      <td>CMX0400L5</td>\n",
       "      <td>TROLE</td>\n",
       "      <td>5</td>\n",
       "      <td>San Felipe de Jesús / Metro Hidalgo</td>\n",
       "      <td>3</td>\n",
       "      <td>1F5AF0</td>\n",
       "      <td>FFFFFF</td>\n",
       "    </tr>\n",
       "    <tr>\n",
       "      <th>74</th>\n",
       "      <td>CMX0400L4</td>\n",
       "      <td>TROLE</td>\n",
       "      <td>4</td>\n",
       "      <td>Metro Boulevard Puerto Aéreo / Metro El Rosario</td>\n",
       "      <td>3</td>\n",
       "      <td>1F5AF0</td>\n",
       "      <td>FFFFFF</td>\n",
       "    </tr>\n",
       "    <tr>\n",
       "      <th>196</th>\n",
       "      <td>CMX05013A</td>\n",
       "      <td>RTP</td>\n",
       "      <td>13-A</td>\n",
       "      <td>Metro Chapultepec - Torres de Padierna/Pedrega...</td>\n",
       "      <td>3</td>\n",
       "      <td>FC9408</td>\n",
       "      <td>FFFFFF</td>\n",
       "    </tr>\n",
       "    <tr>\n",
       "      <th>251</th>\n",
       "      <td>CMX050037</td>\n",
       "      <td>RTP</td>\n",
       "      <td>37</td>\n",
       "      <td>U.C.T.M. Atzacoalco - Carmen Serdán</td>\n",
       "      <td>3</td>\n",
       "      <td>F0D600</td>\n",
       "      <td>FFFFFF</td>\n",
       "    </tr>\n",
       "    <tr>\n",
       "      <th>255</th>\n",
       "      <td>CMX0547AX</td>\n",
       "      <td>RTP</td>\n",
       "      <td>47-A</td>\n",
       "      <td>Alameda Oriente - Xochimilco / Bosque de Nativ...</td>\n",
       "      <td>3</td>\n",
       "      <td>00A099</td>\n",
       "      <td>FFFFFF</td>\n",
       "    </tr>\n",
       "  </tbody>\n",
       "</table>\n",
       "</div>"
      ],
      "text/plain": [
       "      route_id agency_id route_short_name  \\\n",
       "51   CMX0100Z1        CC               Z1   \n",
       "62   CMX0300L7        MB                7   \n",
       "66   CMX0300L3        MB                3   \n",
       "67   CMX0300L2        MB                2   \n",
       "68   CMX0300L1        MB                1   \n",
       "73   CMX0400L5     TROLE                5   \n",
       "74   CMX0400L4     TROLE                4   \n",
       "196  CMX05013A       RTP             13-A   \n",
       "251  CMX050037       RTP               37   \n",
       "255  CMX0547AX       RTP             47-A   \n",
       "\n",
       "                                       route_long_name  route_type  \\\n",
       "51                                   Zonal 1 Cuautepec           3   \n",
       "62                         Indios Verdes - Campo Marte           3   \n",
       "66                  Tenayuca - Pueblo Sta. Cruz Atoyac           3   \n",
       "67                               Tepalcates - Tacubaya           3   \n",
       "68                         Indios Verdes - El Caminero           3   \n",
       "73                 San Felipe de Jesús / Metro Hidalgo           3   \n",
       "74     Metro Boulevard Puerto Aéreo / Metro El Rosario           3   \n",
       "196  Metro Chapultepec - Torres de Padierna/Pedrega...           3   \n",
       "251                U.C.T.M. Atzacoalco - Carmen Serdán           3   \n",
       "255  Alameda Oriente - Xochimilco / Bosque de Nativ...           3   \n",
       "\n",
       "    route_color route_text_color  \n",
       "51       9B26B6           FFFFFF  \n",
       "62       116633           FFFFFF  \n",
       "66       7A9A01           FFFFFF  \n",
       "67       8D1A96           FFFFFF  \n",
       "68       D40D0D           FFFFFF  \n",
       "73       1F5AF0           FFFFFF  \n",
       "74       1F5AF0           FFFFFF  \n",
       "196      FC9408           FFFFFF  \n",
       "251      F0D600           FFFFFF  \n",
       "255      00A099           FFFFFF  "
      ]
     },
     "execution_count": 29,
     "metadata": {},
     "output_type": "execute_result"
    }
   ],
   "source": [
    "# Get the top 10 busiest routes\n",
    "top_busiest_routes = dataframes[\"routes\"].loc[dataframes[\"routes\"]['route_id'].isin(count_trips_routes.head(10).index)]\n",
    "top_busiest_routes"
   ]
  },
  {
   "cell_type": "code",
   "execution_count": null,
   "metadata": {},
   "outputs": [],
   "source": []
  }
 ],
 "metadata": {
  "kernelspec": {
   "display_name": "Python 3",
   "language": "python",
   "name": "python3"
  },
  "language_info": {
   "codemirror_mode": {
    "name": "ipython",
    "version": 3
   },
   "file_extension": ".py",
   "mimetype": "text/x-python",
   "name": "python",
   "nbconvert_exporter": "python",
   "pygments_lexer": "ipython3",
   "version": "3.12.2"
  }
 },
 "nbformat": 4,
 "nbformat_minor": 2
}
