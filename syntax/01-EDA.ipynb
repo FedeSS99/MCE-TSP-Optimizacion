{
 "cells": [
  {
   "cell_type": "markdown",
   "metadata": {},
   "source": [
    "# EDA - Federico"
   ]
  },
  {
   "cell_type": "markdown",
   "metadata": {},
   "source": [
    "Importamos librerías"
   ]
  },
  {
   "cell_type": "code",
   "execution_count": 1,
   "metadata": {},
   "outputs": [],
   "source": [
    "import os\n",
    "import pandas as pd"
   ]
  },
  {
   "cell_type": "markdown",
   "metadata": {},
   "source": [
    "Cargamos los datos en un solo diccionario separados en dataframes"
   ]
  },
  {
   "cell_type": "code",
   "execution_count": 2,
   "metadata": {},
   "outputs": [],
   "source": [
    "\n",
    "PATH = \"../\"\n",
    "data_path = os.path.join(PATH, 'data')\n",
    "data_files = os.listdir(data_path)\n",
    "\n",
    "dataframes : dict[pd.DataFrame] = {}\n",
    "for file in data_files:\n",
    "    datafile_fullpath = os.path.join(data_path, file)\n",
    "    dataframes[file.split(\".\")[0]] = pd.read_csv(datafile_fullpath)"
   ]
  },
  {
   "cell_type": "markdown",
   "metadata": {},
   "source": [
    "## Limpieza de datos"
   ]
  },
  {
   "cell_type": "code",
   "execution_count": 3,
   "metadata": {},
   "outputs": [
    {
     "name": "stdout",
     "output_type": "stream",
     "text": [
      "dict_keys(['agency', 'calendar', 'frequencies', 'routes', 'shapes', 'stop_times', 'stops', 'trips'])\n"
     ]
    }
   ],
   "source": [
    "print(dataframes.keys())"
   ]
  },
  {
   "cell_type": "markdown",
   "metadata": {},
   "source": [
    "### Trips"
   ]
  },
  {
   "cell_type": "code",
   "execution_count": 4,
   "metadata": {},
   "outputs": [
    {
     "name": "stdout",
     "output_type": "stream",
     "text": [
      "<class 'pandas.core.frame.DataFrame'>\n",
      "RangeIndex: 1155 entries, 0 to 1154\n",
      "Data columns (total 7 columns):\n",
      " #   Column           Non-Null Count  Dtype \n",
      "---  ------           --------------  ----- \n",
      " 0   route_id         1155 non-null   object\n",
      " 1   service_id       1155 non-null   object\n",
      " 2   trip_id          1155 non-null   object\n",
      " 3   trip_headsign    1155 non-null   object\n",
      " 4   trip_short_name  1155 non-null   object\n",
      " 5   direction_id     1155 non-null   int64 \n",
      " 6   shape_id         1155 non-null   object\n",
      "dtypes: int64(1), object(6)\n",
      "memory usage: 63.3+ KB\n",
      "None\n"
     ]
    },
    {
     "data": {
      "text/html": [
       "<div>\n",
       "<style scoped>\n",
       "    .dataframe tbody tr th:only-of-type {\n",
       "        vertical-align: middle;\n",
       "    }\n",
       "\n",
       "    .dataframe tbody tr th {\n",
       "        vertical-align: top;\n",
       "    }\n",
       "\n",
       "    .dataframe thead th {\n",
       "        text-align: right;\n",
       "    }\n",
       "</style>\n",
       "<table border=\"1\" class=\"dataframe\">\n",
       "  <thead>\n",
       "    <tr style=\"text-align: right;\">\n",
       "      <th></th>\n",
       "      <th>route_id</th>\n",
       "      <th>service_id</th>\n",
       "      <th>trip_id</th>\n",
       "      <th>trip_headsign</th>\n",
       "      <th>trip_short_name</th>\n",
       "      <th>direction_id</th>\n",
       "      <th>shape_id</th>\n",
       "    </tr>\n",
       "  </thead>\n",
       "  <tbody>\n",
       "    <tr>\n",
       "      <th>0</th>\n",
       "      <td>CMX01001C</td>\n",
       "      <td>0</td>\n",
       "      <td>010001C000_1</td>\n",
       "      <td>Canal de Chalco - Barranca del Muerto</td>\n",
       "      <td>C.Base Periférico Canal de Chalco to Base Barr...</td>\n",
       "      <td>1</td>\n",
       "      <td>SH01001C000_1</td>\n",
       "    </tr>\n",
       "    <tr>\n",
       "      <th>1</th>\n",
       "      <td>CMX01001C</td>\n",
       "      <td>0</td>\n",
       "      <td>010001C000_0</td>\n",
       "      <td>Barranca del Muerto - Canal de Chalco</td>\n",
       "      <td>C.Base Barranca del Muerto to Base Periférico ...</td>\n",
       "      <td>0</td>\n",
       "      <td>SH01001C000_0</td>\n",
       "    </tr>\n",
       "    <tr>\n",
       "      <th>2</th>\n",
       "      <td>CMX01001B</td>\n",
       "      <td>0</td>\n",
       "      <td>010001B000_1</td>\n",
       "      <td>Canal de Chalco - Tacubaya</td>\n",
       "      <td>B.Base Periférico Canal de Chalco to Base Tacu...</td>\n",
       "      <td>1</td>\n",
       "      <td>SH01001B000_1</td>\n",
       "    </tr>\n",
       "    <tr>\n",
       "      <th>3</th>\n",
       "      <td>CMX01001B</td>\n",
       "      <td>0</td>\n",
       "      <td>010001B000_0</td>\n",
       "      <td>Tacubaya - Canal de Chalco</td>\n",
       "      <td>B.Base Tacubaya to Base Periférico Canal de Ch...</td>\n",
       "      <td>0</td>\n",
       "      <td>SH01001B000_0</td>\n",
       "    </tr>\n",
       "    <tr>\n",
       "      <th>4</th>\n",
       "      <td>CMX01001A</td>\n",
       "      <td>0</td>\n",
       "      <td>010001A000_1</td>\n",
       "      <td>Canal de Chalco - Cuatro Caminos</td>\n",
       "      <td>A.Base Canal de Chalco to Base Cuatro Caminos</td>\n",
       "      <td>1</td>\n",
       "      <td>SH01001A000_1</td>\n",
       "    </tr>\n",
       "  </tbody>\n",
       "</table>\n",
       "</div>"
      ],
      "text/plain": [
       "    route_id service_id       trip_id                           trip_headsign  \\\n",
       "0  CMX01001C          0  010001C000_1   Canal de Chalco - Barranca del Muerto   \n",
       "1  CMX01001C          0  010001C000_0   Barranca del Muerto - Canal de Chalco   \n",
       "2  CMX01001B          0  010001B000_1              Canal de Chalco - Tacubaya   \n",
       "3  CMX01001B          0  010001B000_0              Tacubaya - Canal de Chalco   \n",
       "4  CMX01001A          0  010001A000_1        Canal de Chalco - Cuatro Caminos   \n",
       "\n",
       "                                     trip_short_name  direction_id  \\\n",
       "0  C.Base Periférico Canal de Chalco to Base Barr...             1   \n",
       "1  C.Base Barranca del Muerto to Base Periférico ...             0   \n",
       "2  B.Base Periférico Canal de Chalco to Base Tacu...             1   \n",
       "3  B.Base Tacubaya to Base Periférico Canal de Ch...             0   \n",
       "4      A.Base Canal de Chalco to Base Cuatro Caminos             1   \n",
       "\n",
       "        shape_id  \n",
       "0  SH01001C000_1  \n",
       "1  SH01001C000_0  \n",
       "2  SH01001B000_1  \n",
       "3  SH01001B000_0  \n",
       "4  SH01001A000_1  "
      ]
     },
     "execution_count": 4,
     "metadata": {},
     "output_type": "execute_result"
    }
   ],
   "source": [
    "print(dataframes[\"trips\"].info())\n",
    "dataframes[\"trips\"].head()"
   ]
  },
  {
   "cell_type": "markdown",
   "metadata": {},
   "source": [
    "### Stop_times"
   ]
  },
  {
   "cell_type": "code",
   "execution_count": 7,
   "metadata": {},
   "outputs": [
    {
     "name": "stdout",
     "output_type": "stream",
     "text": [
      "<class 'pandas.core.frame.DataFrame'>\n",
      "RangeIndex: 40804 entries, 0 to 40803\n",
      "Data columns (total 6 columns):\n",
      " #   Column          Non-Null Count  Dtype \n",
      "---  ------          --------------  ----- \n",
      " 0   trip_id         40804 non-null  object\n",
      " 1   arrival_time    40804 non-null  object\n",
      " 2   departure_time  40804 non-null  object\n",
      " 3   stop_id         40804 non-null  object\n",
      " 4   stop_sequence   40804 non-null  int64 \n",
      " 5   timepoint       40804 non-null  int64 \n",
      "dtypes: int64(2), object(4)\n",
      "memory usage: 1.9+ MB\n",
      "None\n"
     ]
    },
    {
     "data": {
      "text/html": [
       "<div>\n",
       "<style scoped>\n",
       "    .dataframe tbody tr th:only-of-type {\n",
       "        vertical-align: middle;\n",
       "    }\n",
       "\n",
       "    .dataframe tbody tr th {\n",
       "        vertical-align: top;\n",
       "    }\n",
       "\n",
       "    .dataframe thead th {\n",
       "        text-align: right;\n",
       "    }\n",
       "</style>\n",
       "<table border=\"1\" class=\"dataframe\">\n",
       "  <thead>\n",
       "    <tr style=\"text-align: right;\">\n",
       "      <th></th>\n",
       "      <th>trip_id</th>\n",
       "      <th>arrival_time</th>\n",
       "      <th>departure_time</th>\n",
       "      <th>stop_id</th>\n",
       "      <th>stop_sequence</th>\n",
       "      <th>timepoint</th>\n",
       "    </tr>\n",
       "  </thead>\n",
       "  <tbody>\n",
       "    <tr>\n",
       "      <th>0</th>\n",
       "      <td>010001A000_0</td>\n",
       "      <td>00:00:00</td>\n",
       "      <td>00:00:00</td>\n",
       "      <td>0100C100-PERIFHOLI</td>\n",
       "      <td>1</td>\n",
       "      <td>0</td>\n",
       "    </tr>\n",
       "    <tr>\n",
       "      <th>1</th>\n",
       "      <td>010001A000_0</td>\n",
       "      <td>00:03:37</td>\n",
       "      <td>00:03:37</td>\n",
       "      <td>010C1801-MAVILACONS</td>\n",
       "      <td>2</td>\n",
       "      <td>0</td>\n",
       "    </tr>\n",
       "    <tr>\n",
       "      <th>2</th>\n",
       "      <td>010001A000_0</td>\n",
       "      <td>00:05:02</td>\n",
       "      <td>00:05:02</td>\n",
       "      <td>010C1301-PERIFELEGAR</td>\n",
       "      <td>3</td>\n",
       "      <td>0</td>\n",
       "    </tr>\n",
       "    <tr>\n",
       "      <th>3</th>\n",
       "      <td>010001A000_0</td>\n",
       "      <td>00:06:35</td>\n",
       "      <td>00:06:35</td>\n",
       "      <td>010C1801-MAVILACEJNAL</td>\n",
       "      <td>4</td>\n",
       "      <td>0</td>\n",
       "    </tr>\n",
       "    <tr>\n",
       "      <th>4</th>\n",
       "      <td>010001A000_0</td>\n",
       "      <td>00:08:10</td>\n",
       "      <td>00:08:10</td>\n",
       "      <td>0100C100-PERIFHORACIO</td>\n",
       "      <td>5</td>\n",
       "      <td>0</td>\n",
       "    </tr>\n",
       "  </tbody>\n",
       "</table>\n",
       "</div>"
      ],
      "text/plain": [
       "        trip_id arrival_time departure_time                stop_id  \\\n",
       "0  010001A000_0     00:00:00       00:00:00     0100C100-PERIFHOLI   \n",
       "1  010001A000_0     00:03:37       00:03:37    010C1801-MAVILACONS   \n",
       "2  010001A000_0     00:05:02       00:05:02   010C1301-PERIFELEGAR   \n",
       "3  010001A000_0     00:06:35       00:06:35  010C1801-MAVILACEJNAL   \n",
       "4  010001A000_0     00:08:10       00:08:10  0100C100-PERIFHORACIO   \n",
       "\n",
       "   stop_sequence  timepoint  \n",
       "0              1          0  \n",
       "1              2          0  \n",
       "2              3          0  \n",
       "3              4          0  \n",
       "4              5          0  "
      ]
     },
     "execution_count": 7,
     "metadata": {},
     "output_type": "execute_result"
    }
   ],
   "source": [
    "print(dataframes[\"stop_times\"].info())\n",
    "dataframes[\"stop_times\"].head()"
   ]
  },
  {
   "cell_type": "markdown",
   "metadata": {},
   "source": [
    "### "
   ]
  },
  {
   "cell_type": "code",
   "execution_count": null,
   "metadata": {},
   "outputs": [],
   "source": []
  }
 ],
 "metadata": {
  "kernelspec": {
   "display_name": "Python 3",
   "language": "python",
   "name": "python3"
  },
  "language_info": {
   "codemirror_mode": {
    "name": "ipython",
    "version": 3
   },
   "file_extension": ".py",
   "mimetype": "text/x-python",
   "name": "python",
   "nbconvert_exporter": "python",
   "pygments_lexer": "ipython3",
   "version": "3.12.2"
  }
 },
 "nbformat": 4,
 "nbformat_minor": 2
}
