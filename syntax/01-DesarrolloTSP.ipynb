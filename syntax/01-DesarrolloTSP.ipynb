{
 "cells": [
  {
   "cell_type": "markdown",
   "metadata": {},
   "source": [
    "Algoritmo TSP"
   ]
  },
  {
   "cell_type": "code",
   "execution_count": 2,
   "metadata": {},
   "outputs": [],
   "source": [
    "import pandas as pd # for data manipulation\n",
    "import numpy as np # for linear algebra\n",
    "import matplotlib.pyplot as plt # for plotting"
   ]
  },
  {
   "cell_type": "code",
   "execution_count": 3,
   "metadata": {},
   "outputs": [
    {
     "data": {
      "text/html": [
       "<div>\n",
       "<style scoped>\n",
       "    .dataframe tbody tr th:only-of-type {\n",
       "        vertical-align: middle;\n",
       "    }\n",
       "\n",
       "    .dataframe tbody tr th {\n",
       "        vertical-align: top;\n",
       "    }\n",
       "\n",
       "    .dataframe thead th {\n",
       "        text-align: right;\n",
       "    }\n",
       "</style>\n",
       "<table border=\"1\" class=\"dataframe\">\n",
       "  <thead>\n",
       "    <tr style=\"text-align: right;\">\n",
       "      <th></th>\n",
       "      <th>Country</th>\n",
       "      <th>City</th>\n",
       "      <th>Population</th>\n",
       "      <th>Latitude</th>\n",
       "      <th>Longitude</th>\n",
       "    </tr>\n",
       "  </thead>\n",
       "  <tbody>\n",
       "    <tr>\n",
       "      <th>0</th>\n",
       "      <td>ad</td>\n",
       "      <td>aixas</td>\n",
       "      <td>NaN</td>\n",
       "      <td>42.483333</td>\n",
       "      <td>1.466667</td>\n",
       "    </tr>\n",
       "    <tr>\n",
       "      <th>1</th>\n",
       "      <td>ad</td>\n",
       "      <td>aixirivali</td>\n",
       "      <td>NaN</td>\n",
       "      <td>42.466667</td>\n",
       "      <td>1.500000</td>\n",
       "    </tr>\n",
       "    <tr>\n",
       "      <th>2</th>\n",
       "      <td>ad</td>\n",
       "      <td>aixirivall</td>\n",
       "      <td>NaN</td>\n",
       "      <td>42.466667</td>\n",
       "      <td>1.500000</td>\n",
       "    </tr>\n",
       "    <tr>\n",
       "      <th>3</th>\n",
       "      <td>ad</td>\n",
       "      <td>aixirvall</td>\n",
       "      <td>NaN</td>\n",
       "      <td>42.466667</td>\n",
       "      <td>1.500000</td>\n",
       "    </tr>\n",
       "    <tr>\n",
       "      <th>4</th>\n",
       "      <td>ad</td>\n",
       "      <td>aixovall</td>\n",
       "      <td>NaN</td>\n",
       "      <td>42.466667</td>\n",
       "      <td>1.483333</td>\n",
       "    </tr>\n",
       "    <tr>\n",
       "      <th>...</th>\n",
       "      <td>...</td>\n",
       "      <td>...</td>\n",
       "      <td>...</td>\n",
       "      <td>...</td>\n",
       "      <td>...</td>\n",
       "    </tr>\n",
       "    <tr>\n",
       "      <th>3173953</th>\n",
       "      <td>zw</td>\n",
       "      <td>zimre park</td>\n",
       "      <td>NaN</td>\n",
       "      <td>-17.866111</td>\n",
       "      <td>31.213611</td>\n",
       "    </tr>\n",
       "    <tr>\n",
       "      <th>3173954</th>\n",
       "      <td>zw</td>\n",
       "      <td>ziyakamanas</td>\n",
       "      <td>NaN</td>\n",
       "      <td>-18.216667</td>\n",
       "      <td>27.950000</td>\n",
       "    </tr>\n",
       "    <tr>\n",
       "      <th>3173955</th>\n",
       "      <td>zw</td>\n",
       "      <td>zizalisari</td>\n",
       "      <td>NaN</td>\n",
       "      <td>-17.758889</td>\n",
       "      <td>31.010556</td>\n",
       "    </tr>\n",
       "    <tr>\n",
       "      <th>3173956</th>\n",
       "      <td>zw</td>\n",
       "      <td>zuzumba</td>\n",
       "      <td>NaN</td>\n",
       "      <td>-20.033333</td>\n",
       "      <td>27.933333</td>\n",
       "    </tr>\n",
       "    <tr>\n",
       "      <th>3173957</th>\n",
       "      <td>zw</td>\n",
       "      <td>zvishavane</td>\n",
       "      <td>79876.0</td>\n",
       "      <td>-20.333333</td>\n",
       "      <td>30.033333</td>\n",
       "    </tr>\n",
       "  </tbody>\n",
       "</table>\n",
       "<p>3173958 rows × 5 columns</p>\n",
       "</div>"
      ],
      "text/plain": [
       "        Country         City  Population   Latitude  Longitude\n",
       "0            ad        aixas         NaN  42.483333   1.466667\n",
       "1            ad   aixirivali         NaN  42.466667   1.500000\n",
       "2            ad   aixirivall         NaN  42.466667   1.500000\n",
       "3            ad    aixirvall         NaN  42.466667   1.500000\n",
       "4            ad     aixovall         NaN  42.466667   1.483333\n",
       "...         ...          ...         ...        ...        ...\n",
       "3173953      zw   zimre park         NaN -17.866111  31.213611\n",
       "3173954      zw  ziyakamanas         NaN -18.216667  27.950000\n",
       "3173955      zw   zizalisari         NaN -17.758889  31.010556\n",
       "3173956      zw      zuzumba         NaN -20.033333  27.933333\n",
       "3173957      zw   zvishavane     79876.0 -20.333333  30.033333\n",
       "\n",
       "[3173958 rows x 5 columns]"
      ]
     },
     "execution_count": 3,
     "metadata": {},
     "output_type": "execute_result"
    }
   ],
   "source": [
    "df = pd.read_csv(\"../data/worldcitiespop.csv\", \n",
    "                 usecols=[\"Country\", \"City\", \"Population\", \"Latitude\", \"Longitude\"]) \n",
    "df"
   ]
  },
  {
   "cell_type": "markdown",
   "metadata": {},
   "source": []
  },
  {
   "cell_type": "code",
   "execution_count": 18,
   "metadata": {},
   "outputs": [
    {
     "data": {
      "text/html": [
       "<div>\n",
       "<style scoped>\n",
       "    .dataframe tbody tr th:only-of-type {\n",
       "        vertical-align: middle;\n",
       "    }\n",
       "\n",
       "    .dataframe tbody tr th {\n",
       "        vertical-align: top;\n",
       "    }\n",
       "\n",
       "    .dataframe thead th {\n",
       "        text-align: right;\n",
       "    }\n",
       "</style>\n",
       "<table border=\"1\" class=\"dataframe\">\n",
       "  <thead>\n",
       "    <tr style=\"text-align: right;\">\n",
       "      <th></th>\n",
       "      <th>City</th>\n",
       "      <th>Population</th>\n",
       "      <th>Latitude</th>\n",
       "      <th>Longitude</th>\n",
       "    </tr>\n",
       "  </thead>\n",
       "  <tbody>\n",
       "    <tr>\n",
       "      <th>1857044</th>\n",
       "      <td>abadiano</td>\n",
       "      <td>NaN</td>\n",
       "      <td>19.983333</td>\n",
       "      <td>-102.850000</td>\n",
       "    </tr>\n",
       "    <tr>\n",
       "      <th>1857045</th>\n",
       "      <td>abajo</td>\n",
       "      <td>NaN</td>\n",
       "      <td>28.033333</td>\n",
       "      <td>-107.700000</td>\n",
       "    </tr>\n",
       "    <tr>\n",
       "      <th>1857046</th>\n",
       "      <td>abajo</td>\n",
       "      <td>NaN</td>\n",
       "      <td>21.433333</td>\n",
       "      <td>-97.583333</td>\n",
       "    </tr>\n",
       "    <tr>\n",
       "      <th>1857047</th>\n",
       "      <td>abala</td>\n",
       "      <td>NaN</td>\n",
       "      <td>20.633333</td>\n",
       "      <td>-89.683333</td>\n",
       "    </tr>\n",
       "    <tr>\n",
       "      <th>1857048</th>\n",
       "      <td>abal</td>\n",
       "      <td>NaN</td>\n",
       "      <td>19.950000</td>\n",
       "      <td>-88.866667</td>\n",
       "    </tr>\n",
       "    <tr>\n",
       "      <th>...</th>\n",
       "      <td>...</td>\n",
       "      <td>...</td>\n",
       "      <td>...</td>\n",
       "      <td>...</td>\n",
       "    </tr>\n",
       "    <tr>\n",
       "      <th>1919155</th>\n",
       "      <td>zurdo</td>\n",
       "      <td>NaN</td>\n",
       "      <td>25.916667</td>\n",
       "      <td>-106.750000</td>\n",
       "    </tr>\n",
       "    <tr>\n",
       "      <th>1919156</th>\n",
       "      <td>zurita</td>\n",
       "      <td>NaN</td>\n",
       "      <td>20.616667</td>\n",
       "      <td>-101.233333</td>\n",
       "    </tr>\n",
       "    <tr>\n",
       "      <th>1919157</th>\n",
       "      <td>zurumuato</td>\n",
       "      <td>NaN</td>\n",
       "      <td>20.300000</td>\n",
       "      <td>-101.583333</td>\n",
       "    </tr>\n",
       "    <tr>\n",
       "      <th>1919158</th>\n",
       "      <td>zurumucapio</td>\n",
       "      <td>NaN</td>\n",
       "      <td>19.433333</td>\n",
       "      <td>-101.866667</td>\n",
       "    </tr>\n",
       "    <tr>\n",
       "      <th>1919159</th>\n",
       "      <td>zurumutaro</td>\n",
       "      <td>NaN</td>\n",
       "      <td>19.550000</td>\n",
       "      <td>-101.583333</td>\n",
       "    </tr>\n",
       "  </tbody>\n",
       "</table>\n",
       "<p>62116 rows × 4 columns</p>\n",
       "</div>"
      ],
      "text/plain": [
       "                City  Population   Latitude   Longitude\n",
       "1857044     abadiano         NaN  19.983333 -102.850000\n",
       "1857045        abajo         NaN  28.033333 -107.700000\n",
       "1857046        abajo         NaN  21.433333  -97.583333\n",
       "1857047        abala         NaN  20.633333  -89.683333\n",
       "1857048         abal         NaN  19.950000  -88.866667\n",
       "...              ...         ...        ...         ...\n",
       "1919155        zurdo         NaN  25.916667 -106.750000\n",
       "1919156       zurita         NaN  20.616667 -101.233333\n",
       "1919157    zurumuato         NaN  20.300000 -101.583333\n",
       "1919158  zurumucapio         NaN  19.433333 -101.866667\n",
       "1919159   zurumutaro         NaN  19.550000 -101.583333\n",
       "\n",
       "[62116 rows x 4 columns]"
      ]
     },
     "execution_count": 18,
     "metadata": {},
     "output_type": "execute_result"
    }
   ],
   "source": [
    "mx_data = df.loc[df['Country'] == 'mx', [\"City\", \"Population\", \"Latitude\", \"Longitude\"]]\n",
    "mx_data"
   ]
  },
  {
   "cell_type": "code",
   "execution_count": 19,
   "metadata": {},
   "outputs": [],
   "source": [
    "q10_pop = mx_data['Population'].quantile(.95)"
   ]
  },
  {
   "cell_type": "code",
   "execution_count": 21,
   "metadata": {},
   "outputs": [
    {
     "name": "stdout",
     "output_type": "stream",
     "text": [
      "                   City  Population   Latitude   Longitude\n",
      "1857167        acapulco    652160.0  16.850000  -99.916667\n",
      "1857366           acuna    144703.0  29.300000 -100.916667\n",
      "1857858  aguascalientes    658193.0  21.883333 -102.300000\n",
      "1859091         apodaca    352246.0  25.766667 -100.200000\n",
      "1862481        campeche    205221.0  19.850000  -90.533333\n",
      "...                 ...         ...        ...         ...\n",
      "1916933        veracruz    568336.0  19.200000  -96.133333\n",
      "1917271    villahermosa    362416.0  17.983333  -92.916667\n",
      "1917569          xalapa    425166.0  19.533333  -96.916667\n",
      "1917750            xico    365793.0  19.266667  -98.933333\n",
      "1918739         zapopan    987555.0  20.716667 -103.400000\n",
      "\n",
      "[85 rows x 4 columns]\n"
     ]
    }
   ],
   "source": [
    "mx_data = mx_data[mx_data['Population'] >= q10_pop]\n",
    "print(mx_data)"
   ]
  },
  {
   "cell_type": "code",
   "execution_count": 7,
   "metadata": {},
   "outputs": [
    {
     "data": {
      "text/plain": [
       "0"
      ]
     },
     "execution_count": 7,
     "metadata": {},
     "output_type": "execute_result"
    }
   ],
   "source": [
    "mx_data.duplicated().sum()"
   ]
  },
  {
   "cell_type": "code",
   "execution_count": 23,
   "metadata": {},
   "outputs": [
    {
     "name": "stdout",
     "output_type": "stream",
     "text": [
      "[[   0.         1388.87248324  619.32607028 ...  447.5970903\n",
      "   290.12083706  578.78668017]\n",
      " [1388.87248324    0.          838.95797793 ... 1173.96253104\n",
      "  1137.3543425   993.70919635]\n",
      " [ 619.32607028  838.95797793    0.         ...  653.21563312\n",
      "   474.17746324  178.29891576]\n",
      " ...\n",
      " [ 447.5970903  1173.96253104  653.21563312 ...    0.\n",
      "   226.19185871  732.83642559]\n",
      " [ 290.12083706 1137.3543425   474.17746324 ...  226.19185871\n",
      "     0.          522.2028354 ]\n",
      " [ 578.78668017  993.70919635  178.29891576 ...  732.83642559\n",
      "   522.2028354     0.        ]]\n"
     ]
    }
   ],
   "source": [
    "import pandas as pd\n",
    "import numpy as np\n",
    "from math import radians, sin, cos, atan2, sqrt\n",
    "\n",
    "def haversine_distance(lat1, lon1, lat2, lon2):\n",
    "  \"\"\"\n",
    "  Calculates the distance between two points on Earth using the Haversine formula.\n",
    "\n",
    "  Args:\n",
    "      lat1: Latitude of the first point (in radians).\n",
    "      lon1: Longitude of the first point (in radians).\n",
    "      lat2: Latitude of the second point (in radians).\n",
    "      lon2: Longitude of the second point (in radians).\n",
    "\n",
    "  Returns:\n",
    "      The distance between the two points in kilometers.\n",
    "  \"\"\"\n",
    "  earth_radius = 6371.01  # Earth's radius in kilometers\n",
    "  d_lat = lat2 - lat1\n",
    "  d_lon = lon2 - lon1\n",
    "  a = sin(d_lat / 2) * sin(d_lat / 2) + cos(radians(lat1)) * cos(radians(lat2)) * sin(d_lon / 2) * sin(d_lon / 2)\n",
    "  c = 2 * atan2(sqrt(a), sqrt(1 - a))\n",
    "  return earth_radius * c\n",
    "\n",
    "cities = mx_data[[\"Latitude\", \"Longitude\"]].to_numpy()\n",
    "num_cities = len(cities)\n",
    "\n",
    "# Create a NumPy array to store distances\n",
    "distance_matrix = np.zeros((num_cities, num_cities))\n",
    "\n",
    "# Calculate distances between each pair of cities\n",
    "for i in range(num_cities):\n",
    "  for j in range(i, num_cities):  # Avoid redundant calculations (upper triangular matrix)\n",
    "    lat1, lon1 = cities[i]\n",
    "    lat2, lon2 = cities[j]\n",
    "    distance_matrix[i, j] = haversine_distance(radians(lat1), radians(lon1), radians(lat2), radians(lon2))\n",
    "\n",
    "    distance_matrix[j, i] = distance_matrix[i, j]\n",
    "\n",
    "print(distance_matrix)\n",
    "\n",
    "\n"
   ]
  },
  {
   "cell_type": "code",
   "execution_count": 25,
   "metadata": {},
   "outputs": [
    {
     "data": {
      "text/plain": [
       "(85, 85)"
      ]
     },
     "execution_count": 25,
     "metadata": {},
     "output_type": "execute_result"
    }
   ],
   "source": [
    "distance_matrix.shape"
   ]
  },
  {
   "cell_type": "code",
   "execution_count": 32,
   "metadata": {},
   "outputs": [
    {
     "ename": "NameError",
     "evalue": "name 'best_path' is not defined",
     "output_type": "error",
     "traceback": [
      "\u001b[1;31m---------------------------------------------------------------------------\u001b[0m",
      "\u001b[1;31mNameError\u001b[0m                                 Traceback (most recent call last)",
      "Cell \u001b[1;32mIn[32], line 8\u001b[0m\n\u001b[0;32m      4\u001b[0m fig2 \u001b[38;5;241m=\u001b[39m px\u001b[38;5;241m.\u001b[39mscatter_mapbox(mx_data, lat\u001b[38;5;241m=\u001b[39m\u001b[38;5;124m\"\u001b[39m\u001b[38;5;124mLatitude\u001b[39m\u001b[38;5;124m\"\u001b[39m, lon\u001b[38;5;241m=\u001b[39m\u001b[38;5;124m\"\u001b[39m\u001b[38;5;124mLongitude\u001b[39m\u001b[38;5;124m\"\u001b[39m, hover_name\u001b[38;5;241m=\u001b[39m\u001b[38;5;124m\"\u001b[39m\u001b[38;5;124mCity\u001b[39m\u001b[38;5;124m\"\u001b[39m, zoom\u001b[38;5;241m=\u001b[39m\u001b[38;5;241m3\u001b[39m, height\u001b[38;5;241m=\u001b[39m\u001b[38;5;241m600\u001b[39m, size_max\u001b[38;5;241m=\u001b[39m\u001b[38;5;241m8\u001b[39m)\n\u001b[0;32m      6\u001b[0m \u001b[38;5;66;03m# Adding the best path or solution as a line (assuming 'best_path' is a NumPy array)\u001b[39;00m\n\u001b[0;32m      7\u001b[0m fig2\u001b[38;5;241m.\u001b[39madd_trace(go\u001b[38;5;241m.\u001b[39mScattermapbox(\n\u001b[1;32m----> 8\u001b[0m     lat\u001b[38;5;241m=\u001b[39mbest_path[:, \u001b[38;5;241m0\u001b[39m],\n\u001b[0;32m      9\u001b[0m     lon\u001b[38;5;241m=\u001b[39mbest_path[:, \u001b[38;5;241m1\u001b[39m],\n\u001b[0;32m     10\u001b[0m     mode\u001b[38;5;241m=\u001b[39m\u001b[38;5;124m'\u001b[39m\u001b[38;5;124mlines\u001b[39m\u001b[38;5;124m'\u001b[39m,  \u001b[38;5;66;03m# Set mode to 'lines' for a path\u001b[39;00m\n\u001b[0;32m     11\u001b[0m     marker\u001b[38;5;241m=\u001b[39mgo\u001b[38;5;241m.\u001b[39mscattermapbox\u001b[38;5;241m.\u001b[39mMarker(size\u001b[38;5;241m=\u001b[39m\u001b[38;5;241m4\u001b[39m),\n\u001b[0;32m     12\u001b[0m     line\u001b[38;5;241m=\u001b[39mgo\u001b[38;5;241m.\u001b[39mscattermapbox\u001b[38;5;241m.\u001b[39mLine(width\u001b[38;5;241m=\u001b[39m\u001b[38;5;241m1\u001b[39m, color\u001b[38;5;241m=\u001b[39m\u001b[38;5;124m'\u001b[39m\u001b[38;5;124msteelblue\u001b[39m\u001b[38;5;124m'\u001b[39m)))\n",
      "\u001b[1;31mNameError\u001b[0m: name 'best_path' is not defined"
     ]
    }
   ],
   "source": [
    "import plotly.graph_objects as go\n",
    "import pandas as pd\n",
    "\n",
    "fig2 = px.scatter_mapbox(mx_data, lat=\"Latitude\", lon=\"Longitude\", hover_name=\"City\", zoom=3, height=600, size_max=8)\n",
    "\n",
    "# Adding the best path or solution as a line\n",
    "fig2.add_trace(go.Scattermapbox(\n",
    "    lat=best_path[:, 0],\n",
    "    lon=best_path[:, 1],\n",
    "    mode='markers+lines',\n",
    "    name='Best Path',\n",
    "    marker=go.scattermapbox.Marker(size=4),\n",
    "    line=go.scattermapbox.Line(width=1,color='steelblue')))\n",
    "\n",
    "# Customizibg the map style\n",
    "fig2.update_layout(mapbox_style=\"carto-positron\")\n",
    "\n",
    "# Showing the interactive plot\n",
    "fig2.show()"
   ]
  },
  {
   "cell_type": "code",
   "execution_count": 31,
   "metadata": {},
   "outputs": [],
   "source": [
    "import plotly.express as px\n"
   ]
  }
 ],
 "metadata": {
  "kernelspec": {
   "display_name": "base",
   "language": "python",
   "name": "python3"
  },
  "language_info": {
   "codemirror_mode": {
    "name": "ipython",
    "version": 3
   },
   "file_extension": ".py",
   "mimetype": "text/x-python",
   "name": "python",
   "nbconvert_exporter": "python",
   "pygments_lexer": "ipython3",
   "version": "3.11.4"
  }
 },
 "nbformat": 4,
 "nbformat_minor": 2
}
